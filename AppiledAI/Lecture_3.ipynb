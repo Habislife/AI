{
 "cells": [
  {
   "cell_type": "markdown",
   "id": "5cf1bdf0",
   "metadata": {},
   "source": [
    "# Lists"
   ]
  },
  {
   "cell_type": "markdown",
   "id": "a6e323c8",
   "metadata": {},
   "source": [
    "Data Structure:"
   ]
  },
  {
   "cell_type": "markdown",
   "id": "fa7f84d7",
   "metadata": {},
   "source": [
    "A data structure is a collection of data elements(such as numbers or characters - or even other data structures) that is structured in some way, for example, by numbering the elements.The most basic data structure in Python is the \"sequence\"."
   ]
  },
  {
   "cell_type": "markdown",
   "id": "ccd1f3eb",
   "metadata": {},
   "source": [
    "-> List is one of the Sequence Data structure"
   ]
  },
  {
   "cell_type": "markdown",
   "id": "25de57d9",
   "metadata": {},
   "source": [
    "-> Lists are collection of items(Strings, integers or even other lists)"
   ]
  },
  {
   "cell_type": "markdown",
   "id": "b344d855",
   "metadata": {},
   "source": [
    "-> Lists are enclosed in []"
   ]
  },
  {
   "cell_type": "markdown",
   "id": "5b964a7c",
   "metadata": {},
   "source": [
    "-> Each item in the list has an assigned index value."
   ]
  },
  {
   "cell_type": "markdown",
   "id": "e24fd157",
   "metadata": {},
   "source": [
    "-> Each item in a list is seperated by a comma."
   ]
  },
  {
   "cell_type": "markdown",
   "id": "f5b4c511",
   "metadata": {},
   "source": [
    "-> Lists are mutable, which means they can be changed."
   ]
  },
  {
   "cell_type": "markdown",
   "id": "d4da51e7",
   "metadata": {},
   "source": [
    "## List Creation"
   ]
  },
  {
   "cell_type": "code",
   "execution_count": 7,
   "id": "1eec60c7",
   "metadata": {},
   "outputs": [
    {
     "name": "stdout",
     "output_type": "stream",
     "text": [
      "[1, 'ramu', 24, 1.25]\n"
     ]
    }
   ],
   "source": [
    "emptyList = []\n",
    "lst = ['one', 'two', 'three', 'four'] # list of strings\n",
    "lst2 = [1, 2, 3, 4] # list of integers\n",
    "lst3 = [[1,2],[3,4]] # list of lists\n",
    "lst4 = [1 , 'ramu', 24, 1.25]\n",
    "print(lst4)\n"
   ]
  },
  {
   "cell_type": "markdown",
   "id": "a1ca2ae7",
   "metadata": {},
   "source": [
    "## List Length"
   ]
  },
  {
   "cell_type": "code",
   "execution_count": 8,
   "id": "ec5f95b2",
   "metadata": {},
   "outputs": [
    {
     "name": "stdout",
     "output_type": "stream",
     "text": [
      "4\n"
     ]
    }
   ],
   "source": [
    "lst = ['one', 'two', 'three', 'four']\n",
    "# find length of a list\n",
    "print(len(lst))"
   ]
  },
  {
   "cell_type": "markdown",
   "id": "0882febe",
   "metadata": {},
   "source": [
    "## List Append"
   ]
  },
  {
   "cell_type": "code",
   "execution_count": 9,
   "id": "16e33040",
   "metadata": {},
   "outputs": [
    {
     "name": "stdout",
     "output_type": "stream",
     "text": [
      "['one', 'two', 'three', 'four', 'five']\n"
     ]
    }
   ],
   "source": [
    "lst = ['one', 'two', 'three', 'four']\n",
    "lst.append('five') # append will add the item at end\n",
    "print(lst)"
   ]
  },
  {
   "cell_type": "markdown",
   "id": "8e88d8bf",
   "metadata": {},
   "source": [
    "## List Insert"
   ]
  },
  {
   "cell_type": "code",
   "execution_count": 10,
   "id": "00f6ee15",
   "metadata": {},
   "outputs": [
    {
     "name": "stdout",
     "output_type": "stream",
     "text": [
      "['one', 'two', 'three', 'four']\n"
     ]
    }
   ],
   "source": [
    "#syntax: lst.insert(x,y)\n",
    "\n",
    "lst = ['one', 'two', 'four']\n",
    "lst.insert(2,'three') # will add element y at location x\n",
    "print(lst)"
   ]
  },
  {
   "cell_type": "markdown",
   "id": "4751641b",
   "metadata": {},
   "source": [
    "## List remove"
   ]
  },
  {
   "cell_type": "code",
   "execution_count": 11,
   "id": "557c1a3f",
   "metadata": {},
   "outputs": [
    {
     "name": "stdout",
     "output_type": "stream",
     "text": [
      "['one', 'three', 'four', 'two']\n"
     ]
    }
   ],
   "source": [
    "#syntax: lst.remove(x)\n",
    "\n",
    "lst = ['one', 'two', 'three', 'four', 'two']\n",
    "lst.remove('two') # it will remove first  occurences of 'two' in a given list\n",
    "print(lst)"
   ]
  },
  {
   "cell_type": "markdown",
   "id": "ddab3657",
   "metadata": {},
   "source": [
    "## List Append & Extend"
   ]
  },
  {
   "cell_type": "code",
   "execution_count": 12,
   "id": "3be4eab5",
   "metadata": {},
   "outputs": [
    {
     "name": "stdout",
     "output_type": "stream",
     "text": [
      "['one', 'two', 'three', 'four', ['five', 'six']]\n"
     ]
    }
   ],
   "source": [
    "lst = ['one', 'two', 'three', 'four']\n",
    "lst2 = ['five', 'six']\n",
    "#append\n",
    "lst.append(lst2)\n",
    "print(lst)"
   ]
  },
  {
   "cell_type": "code",
   "execution_count": 13,
   "id": "30799769",
   "metadata": {},
   "outputs": [
    {
     "name": "stdout",
     "output_type": "stream",
     "text": [
      "['one', 'two', 'three', 'four', 'five', 'six']\n"
     ]
    }
   ],
   "source": [
    "lst = ['one', 'two', 'three', 'four']\n",
    "lst2 = ['five', 'six']\n",
    "#extends will  join  the list with list1\n",
    "lst.extend(lst2)\n",
    "print(lst)"
   ]
  },
  {
   "cell_type": "markdown",
   "id": "6790b30c",
   "metadata": {},
   "source": [
    "## List Delete"
   ]
  },
  {
   "cell_type": "code",
   "execution_count": 1,
   "id": "b613ddf2",
   "metadata": {},
   "outputs": [
    {
     "name": "stdout",
     "output_type": "stream",
     "text": [
      "['one', 'three', 'four', 'five']\n",
      "three\n",
      "['one', 'four', 'five']\n"
     ]
    }
   ],
   "source": [
    "# del to remove itwm based on index position\n",
    "\n",
    "lst = ['one', 'two', 'three', 'four', 'five']\n",
    "del lst[1]\n",
    "print(lst)\n",
    "\n",
    "#or  we can use pop() method\n",
    "a = lst.pop(1)\n",
    "print(a)\n",
    "\n",
    "print(lst)\n",
    "\n"
   ]
  },
  {
   "cell_type": "code",
   "execution_count": 2,
   "id": "8ccfa251",
   "metadata": {},
   "outputs": [
    {
     "name": "stdout",
     "output_type": "stream",
     "text": [
      "['one', 'two', 'four']\n"
     ]
    }
   ],
   "source": [
    "lst = ['one', 'two', 'three', 'four']\n",
    "\n",
    "# remove an item from list\n",
    "lst.remove('three')\n",
    "print(lst)"
   ]
  },
  {
   "cell_type": "markdown",
   "id": "b5710672",
   "metadata": {},
   "source": [
    "## List related keywords in Python"
   ]
  },
  {
   "cell_type": "code",
   "execution_count": 4,
   "id": "cd16e5ff",
   "metadata": {},
   "outputs": [
    {
     "name": "stdout",
     "output_type": "stream",
     "text": [
      "AI\n",
      "ML\n"
     ]
    }
   ],
   "source": [
    "# keyword 'in' is used to test if an item is in a list\n",
    "\n",
    "lst = ['one', 'two', 'three', 'four']\n",
    "if 'two' in lst:\n",
    "    print('AI')\n",
    "    #keyword 'not' can combined with 'in'\n",
    "if 'six' not in lst:\n",
    "    print('ML')"
   ]
  },
  {
   "cell_type": "markdown",
   "id": "0d16f604",
   "metadata": {},
   "source": [
    "## List Reverse"
   ]
  },
  {
   "cell_type": "code",
   "execution_count": 5,
   "id": "c4735727",
   "metadata": {},
   "outputs": [
    {
     "name": "stdout",
     "output_type": "stream",
     "text": [
      "['four', 'three', 'two', 'one']\n"
     ]
    }
   ],
   "source": [
    "# reverse is reverses the entire list\n",
    "\n",
    "lst = ['one', 'two', 'three', 'four']\n",
    "\n",
    "lst.reverse()\n",
    "\n",
    "print(lst)"
   ]
  },
  {
   "cell_type": "markdown",
   "id": "7c223723",
   "metadata": {},
   "source": [
    "## List Sorting"
   ]
  },
  {
   "cell_type": "markdown",
   "id": "815b5aa4",
   "metadata": {},
   "source": [
    "The easiet way to sort a List with the sorted (list) function."
   ]
  },
  {
   "cell_type": "markdown",
   "id": "1abe18b6",
   "metadata": {},
   "source": [
    "That takes a list and returns a new list with those elements in sorted order."
   ]
  },
  {
   "cell_type": "markdown",
   "id": "e74f0b91",
   "metadata": {},
   "source": [
    "The "
   ]
  }
 ],
 "metadata": {
  "kernelspec": {
   "display_name": "Python 3",
   "language": "python",
   "name": "python3"
  },
  "language_info": {
   "codemirror_mode": {
    "name": "ipython",
    "version": 3
   },
   "file_extension": ".py",
   "mimetype": "text/x-python",
   "name": "python",
   "nbconvert_exporter": "python",
   "pygments_lexer": "ipython3",
   "version": "3.8.8"
  }
 },
 "nbformat": 4,
 "nbformat_minor": 5
}
