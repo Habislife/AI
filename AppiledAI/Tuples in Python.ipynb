{
 "cells": [
  {
   "cell_type": "markdown",
   "id": "09ad0294",
   "metadata": {},
   "source": [
    "# Tuples\n",
    "\n",
    "->similar to list\n",
    "\n",
    "->The difference between the two is that we can't change the elements of tuple once it is assigned whereas in the list, elements can be changed."
   ]
  },
  {
   "cell_type": "markdown",
   "id": "fdb41288",
   "metadata": {},
   "source": [
    "## Tuple Creation"
   ]
  },
  {
   "cell_type": "code",
   "execution_count": 1,
   "id": "fdc63507",
   "metadata": {},
   "outputs": [
    {
     "name": "stdout",
     "output_type": "stream",
     "text": [
      "(1, 2, 3)\n",
      "(1, 'raju', 28, 'abc')\n",
      "(1, (2, 3, 4), [1, 'raju', 28, 'abc'])\n"
     ]
    }
   ],
   "source": [
    "#empty tuple\n",
    "t = ()\n",
    "#tuple having integers\n",
    "t = (1, 2, 3)\n",
    "print(t)\n",
    "\n",
    "#tuple with mixed datatypes\n",
    "t = (1, 'raju', 28, 'abc')\n",
    "print(t)\n",
    "\n",
    "#nested tuple\n",
    "t = (1, (2, 3, 4), [1, 'raju', 28, 'abc'])\n",
    "print(t)"
   ]
  },
  {
   "cell_type": "code",
   "execution_count": 2,
   "id": "430bad7d",
   "metadata": {},
   "outputs": [
    {
     "data": {
      "text/plain": [
       "str"
      ]
     },
     "execution_count": 2,
     "metadata": {},
     "output_type": "execute_result"
    }
   ],
   "source": [
    "#only paranthesis is not enough\n",
    "t = ('satish')\n",
    "type(t)"
   ]
  },
  {
   "cell_type": "code",
   "execution_count": 3,
   "id": "4078191a",
   "metadata": {},
   "outputs": [
    {
     "data": {
      "text/plain": [
       "tuple"
      ]
     },
     "execution_count": 3,
     "metadata": {},
     "output_type": "execute_result"
    }
   ],
   "source": [
    "#need a comma at the end\n",
    "t = ('satish',)\n",
    "type(t)"
   ]
  },
  {
   "cell_type": "code",
   "execution_count": 4,
   "id": "1ef59d29",
   "metadata": {},
   "outputs": [
    {
     "name": "stdout",
     "output_type": "stream",
     "text": [
      "<class 'tuple'>\n",
      "('satish',)\n"
     ]
    }
   ],
   "source": [
    "#paranthesis is optional\n",
    "t = \"satish\",\n",
    "print(type(t))\n",
    "\n",
    "print(t)"
   ]
  },
  {
   "cell_type": "markdown",
   "id": "0a356d4f",
   "metadata": {},
   "source": [
    " ## Accessing Elements in Tuple"
   ]
  },
  {
   "cell_type": "code",
   "execution_count": 5,
   "id": "f4eba1a3",
   "metadata": {},
   "outputs": [
    {
     "name": "stdout",
     "output_type": "stream",
     "text": [
      "murali\n"
     ]
    }
   ],
   "source": [
    "t=('satish', 'murali', 'naveen', 'srinu', 'brahma')\n",
    "\n",
    "print(t[1])"
   ]
  },
  {
   "cell_type": "code",
   "execution_count": 6,
   "id": "22fe98fe",
   "metadata": {},
   "outputs": [
    {
     "name": "stdout",
     "output_type": "stream",
     "text": [
      "brahma\n"
     ]
    }
   ],
   "source": [
    "#negative index\n",
    "print(t[-1]) #print last element in atuple"
   ]
  },
  {
   "cell_type": "code",
   "execution_count": 8,
   "id": "8a918d60",
   "metadata": {},
   "outputs": [
    {
     "name": "stdout",
     "output_type": "stream",
     "text": [
      "('satish', 'naveen', 'srinu')\n"
     ]
    }
   ],
   "source": [
    "# nested tuple\n",
    "t = ('ABC', ('satish', 'naveen','srinu'))\n",
    "print(t[1])"
   ]
  },
  {
   "cell_type": "code",
   "execution_count": 9,
   "id": "81341def",
   "metadata": {},
   "outputs": [
    {
     "name": "stdout",
     "output_type": "stream",
     "text": [
      "srinu\n"
     ]
    }
   ],
   "source": [
    "print(t[1][2])"
   ]
  },
  {
   "cell_type": "code",
   "execution_count": 10,
   "id": "ac04244f",
   "metadata": {},
   "outputs": [
    {
     "name": "stdout",
     "output_type": "stream",
     "text": [
      "(2, 3, 4)\n",
      "(1, 2, 3, 4)\n",
      "(1, 2, 3, 4, 5, 6)\n"
     ]
    }
   ],
   "source": [
    "#Slicing\n",
    "t = (1, 2, 3, 4, 5, 6)\n",
    "\n",
    "print(t[1:4])\n",
    "\n",
    "# print elements from starting to 2nd last elements\n",
    "print(t[:-2])\n",
    "\n",
    "# print elements from starting to end\n",
    "print(t[:])"
   ]
  },
  {
   "cell_type": "markdown",
   "id": "20fe21a5",
   "metadata": {},
   "source": [
    "## Changing a Tuple\n",
    "\n",
    "#unlike lists, tuples are immutable\n",
    "\n",
    "#This means that elements of a tuple cannot be changed once it has been assigned. But, if the element is itself a mutable datatype like list, its nested items can be changed."
   ]
  },
  {
   "cell_type": "code",
   "execution_count": 11,
   "id": "e2e3c6e7",
   "metadata": {},
   "outputs": [
    {
     "ename": "TypeError",
     "evalue": "'tuple' object does not support item assignment",
     "output_type": "error",
     "traceback": [
      "\u001b[1;31m---------------------------------------------------------------------------\u001b[0m",
      "\u001b[1;31mTypeError\u001b[0m                                 Traceback (most recent call last)",
      "\u001b[1;32m<ipython-input-11-c599d906e19b>\u001b[0m in \u001b[0;36m<module>\u001b[1;34m\u001b[0m\n\u001b[0;32m      1\u001b[0m \u001b[1;31m#creating tuple\u001b[0m\u001b[1;33m\u001b[0m\u001b[1;33m\u001b[0m\u001b[1;33m\u001b[0m\u001b[0m\n\u001b[0;32m      2\u001b[0m \u001b[0mt\u001b[0m \u001b[1;33m=\u001b[0m \u001b[1;33m(\u001b[0m\u001b[1;36m1\u001b[0m\u001b[1;33m,\u001b[0m \u001b[1;36m2\u001b[0m\u001b[1;33m,\u001b[0m \u001b[1;36m3\u001b[0m\u001b[1;33m,\u001b[0m \u001b[1;36m4\u001b[0m\u001b[1;33m,\u001b[0m \u001b[1;33m[\u001b[0m\u001b[1;36m5\u001b[0m\u001b[1;33m,\u001b[0m \u001b[1;36m6\u001b[0m\u001b[1;33m,\u001b[0m \u001b[1;36m7\u001b[0m\u001b[1;33m]\u001b[0m\u001b[1;33m)\u001b[0m\u001b[1;33m\u001b[0m\u001b[1;33m\u001b[0m\u001b[0m\n\u001b[1;32m----> 3\u001b[1;33m \u001b[0mt\u001b[0m\u001b[1;33m[\u001b[0m\u001b[1;36m2\u001b[0m\u001b[1;33m]\u001b[0m \u001b[1;33m=\u001b[0m \u001b[1;34m'x'\u001b[0m \u001b[1;31m#will get TypeError\u001b[0m\u001b[1;33m\u001b[0m\u001b[1;33m\u001b[0m\u001b[0m\n\u001b[0m",
      "\u001b[1;31mTypeError\u001b[0m: 'tuple' object does not support item assignment"
     ]
    }
   ],
   "source": [
    "#creating tuple\n",
    "t = (1, 2, 3, 4, [5, 6, 7])\n",
    "t[2] = 'x' #will get TypeError"
   ]
  },
  {
   "cell_type": "code",
   "execution_count": 12,
   "id": "fe8e217b",
   "metadata": {},
   "outputs": [
    {
     "name": "stdout",
     "output_type": "stream",
     "text": [
      "(1, 2, 3, 4, [5, 'satish', 7])\n"
     ]
    }
   ],
   "source": [
    "t[4][1] = 'satish'\n",
    "print(t)"
   ]
  },
  {
   "cell_type": "code",
   "execution_count": 13,
   "id": "7de886ec",
   "metadata": {},
   "outputs": [
    {
     "name": "stdout",
     "output_type": "stream",
     "text": [
      "(1, 2, 3, 4, 5, 6)\n"
     ]
    }
   ],
   "source": [
    "#concatinating tuples\n",
    "\n",
    "t = (1, 2, 3) + (4, 5, 6)\n",
    "print(t)"
   ]
  },
  {
   "cell_type": "code",
   "execution_count": 14,
   "id": "1412c324",
   "metadata": {},
   "outputs": [
    {
     "name": "stdout",
     "output_type": "stream",
     "text": [
      "('satish', 'satish', 'satish', 'satish')\n"
     ]
    }
   ],
   "source": [
    "#repeat the elements in atuple for a given number of times using the * operator\n",
    "t = (('satish',) * 4)\n",
    "print(t)"
   ]
  },
  {
   "cell_type": "markdown",
   "id": "57276aa5",
   "metadata": {},
   "source": [
    "## Tuple Deletion"
   ]
  },
  {
   "cell_type": "code",
   "execution_count": 15,
   "id": "0f298f5c",
   "metadata": {},
   "outputs": [],
   "source": [
    "# we cannot change the elements ina tuple.\n",
    "# That also means we cannot delete or remove items from a tuple.\n",
    "\n",
    "#delete entire tuple using del keyword\n",
    "t = (1, 2, 3, 4, 5, 6)\n",
    "\n",
    "#delete entire tuple\n",
    "del t"
   ]
  },
  {
   "cell_type": "markdown",
   "id": "a889179a",
   "metadata": {},
   "source": [
    "## Tuple Count"
   ]
  },
  {
   "cell_type": "code",
   "execution_count": 16,
   "id": "f8102b6c",
   "metadata": {},
   "outputs": [
    {
     "data": {
      "text/plain": [
       "3"
      ]
     },
     "execution_count": 16,
     "metadata": {},
     "output_type": "execute_result"
    }
   ],
   "source": [
    "t = (1, 2, 3, 1, 3, 3, 4, 1)\n",
    "# get the frequency of particular element appears in a tuple\n",
    "t.count(1)"
   ]
  },
  {
   "cell_type": "markdown",
   "id": "2d9d0dec",
   "metadata": {},
   "source": [
    "## Tuple Index"
   ]
  },
  {
   "cell_type": "code",
   "execution_count": 18,
   "id": "2c37a6c4",
   "metadata": {},
   "outputs": [
    {
     "name": "stdout",
     "output_type": "stream",
     "text": [
      "2\n"
     ]
    }
   ],
   "source": [
    "t = (1, 2, 3, 1, 3, 3, 4, 1)\n",
    "\n",
    "print(t.index(3)) #return index of the first element is equal to 3\n",
    "\n",
    "#print index of the 1"
   ]
  },
  {
   "cell_type": "markdown",
   "id": "5dac9cb8",
   "metadata": {},
   "source": [
    "## Tuple Membership"
   ]
  },
  {
   "cell_type": "code",
   "execution_count": 19,
   "id": "93102e40",
   "metadata": {},
   "outputs": [
    {
     "name": "stdout",
     "output_type": "stream",
     "text": [
      "True\n"
     ]
    }
   ],
   "source": [
    "#test if an item exists ina tuple or not, using the keyword in.\n",
    "t = (1, 2, 3, 4, 5, 6)\n",
    "\n",
    "print(1 in t)"
   ]
  },
  {
   "cell_type": "code",
   "execution_count": 20,
   "id": "127f177f",
   "metadata": {},
   "outputs": [
    {
     "name": "stdout",
     "output_type": "stream",
     "text": [
      "False\n"
     ]
    }
   ],
   "source": [
    "print(7 in t)"
   ]
  },
  {
   "cell_type": "markdown",
   "id": "6cfe8b9d",
   "metadata": {},
   "source": [
    "## Built in Functions"
   ]
  },
  {
   "cell_type": "markdown",
   "id": "cd0f7c97",
   "metadata": {},
   "source": [
    "### Tuple Length"
   ]
  },
  {
   "cell_type": "code",
   "execution_count": 21,
   "id": "09c068f3",
   "metadata": {},
   "outputs": [
    {
     "name": "stdout",
     "output_type": "stream",
     "text": [
      "6\n"
     ]
    }
   ],
   "source": [
    "t = (1, 2, 3, 4, 5, 6)\n",
    "print(len(t))"
   ]
  },
  {
   "cell_type": "markdown",
   "id": "a2b7c41b",
   "metadata": {},
   "source": [
    "### Tuple Sort"
   ]
  },
  {
   "cell_type": "code",
   "execution_count": 22,
   "id": "af207ca5",
   "metadata": {},
   "outputs": [
    {
     "name": "stdout",
     "output_type": "stream",
     "text": [
      "[1, 2, 3, 4, 5]\n"
     ]
    }
   ],
   "source": [
    "t = (4, 5, 2, 3, 1)\n",
    "\n",
    "new_t = sorted(t)\n",
    "print(new_t) #Take elements in the tuple and return a new sorted list\n",
    "             #(does not sort the tuple itself).\n"
   ]
  },
  {
   "cell_type": "code",
   "execution_count": 23,
   "id": "327716bc",
   "metadata": {},
   "outputs": [
    {
     "name": "stdout",
     "output_type": "stream",
     "text": [
      "9\n"
     ]
    }
   ],
   "source": [
    "# get the largest element in a tuple \n",
    "t = (2, 5, 1, 6, 9)\n",
    "\n",
    "print(max(t))"
   ]
  },
  {
   "cell_type": "code",
   "execution_count": null,
   "id": "8f264378",
   "metadata": {},
   "outputs": [],
   "source": [
    "# get the smallest element"
   ]
  }
 ],
 "metadata": {
  "kernelspec": {
   "display_name": "Python 3",
   "language": "python",
   "name": "python3"
  },
  "language_info": {
   "codemirror_mode": {
    "name": "ipython",
    "version": 3
   },
   "file_extension": ".py",
   "mimetype": "text/x-python",
   "name": "python",
   "nbconvert_exporter": "python",
   "pygments_lexer": "ipython3",
   "version": "3.8.8"
  }
 },
 "nbformat": 4,
 "nbformat_minor": 5
}
