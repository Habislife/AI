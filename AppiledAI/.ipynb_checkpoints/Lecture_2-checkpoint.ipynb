{
 "cells": [
  {
   "cell_type": "markdown",
   "id": "5f876b98",
   "metadata": {},
   "source": [
    "# Python Keywords"
   ]
  },
  {
   "cell_type": "markdown",
   "id": "8fc25958",
   "metadata": {},
   "source": [
    "Keywords are the reserved words in python."
   ]
  },
  {
   "cell_type": "markdown",
   "id": "e508b2b7",
   "metadata": {},
   "source": [
    "We can't use a keyword as variable name, function name or any other identifier."
   ]
  },
  {
   "cell_type": "markdown",
   "id": "133a7c1a",
   "metadata": {},
   "source": [
    "Keywords are case senstive."
   ]
  },
  {
   "cell_type": "code",
   "execution_count": 1,
   "id": "3fa93c72",
   "metadata": {},
   "outputs": [
    {
     "name": "stdout",
     "output_type": "stream",
     "text": [
      "['False', 'None', 'True', 'and', 'as', 'assert', 'async', 'await', 'break', 'class', 'continue', 'def', 'del', 'elif', 'else', 'except', 'finally', 'for', 'from', 'global', 'if', 'import', 'in', 'is', 'lambda', 'nonlocal', 'not', 'or', 'pass', 'raise', 'return', 'try', 'while', 'with', 'yield']\n",
      "\n",
      "Total number of keywords :  35\n"
     ]
    }
   ],
   "source": [
    "import keyword\n",
    "\n",
    "print(keyword.kwlist)\n",
    "\n",
    "print('\\nTotal number of keywords : ',len(keyword.kwlist))"
   ]
  },
  {
   "cell_type": "markdown",
   "id": "31f0557f",
   "metadata": {},
   "source": [
    "# Identifiers"
   ]
  },
  {
   "cell_type": "markdown",
   "id": "c1b53f6c",
   "metadata": {},
   "source": [
    "Identifier is the name given to entities like class, functions, variables etc. in Python.It helps differentiating one entity from another."
   ]
  },
  {
   "cell_type": "markdown",
   "id": "e1bba1b4",
   "metadata": {},
   "source": [
    "Rules for Writing Identifiers:"
   ]
  },
  {
   "cell_type": "markdown",
   "id": "dc91af31",
   "metadata": {},
   "source": [
    "1.Identifiers can be a combination of letters in lowercase(a to z) or uppercase (A to Z) or digits (0 to 9) or an underscore(_)."
   ]
  },
  {
   "cell_type": "markdown",
   "id": "e202f9bb",
   "metadata": {},
   "source": [
    "2.An identifiers cannot start with a digit. 1variable is invalid,but variable1 is perfectly fine."
   ]
  },
  {
   "cell_type": "markdown",
   "id": "3dc9e266",
   "metadata": {},
   "source": [
    "3.Keywords cannot be used as identifiers."
   ]
  },
  {
   "cell_type": "code",
   "execution_count": 2,
   "id": "e3eca8ff",
   "metadata": {},
   "outputs": [
    {
     "ename": "SyntaxError",
     "evalue": "invalid syntax (<ipython-input-2-2dd14932245f>, line 2)",
     "output_type": "error",
     "traceback": [
      "\u001b[1;36m  File \u001b[1;32m\"<ipython-input-2-2dd14932245f>\"\u001b[1;36m, line \u001b[1;32m2\u001b[0m\n\u001b[1;33m    global = 1\u001b[0m\n\u001b[1;37m           ^\u001b[0m\n\u001b[1;31mSyntaxError\u001b[0m\u001b[1;31m:\u001b[0m invalid syntax\n"
     ]
    }
   ],
   "source": [
    "abc_12 = 12\n",
    "global = 1"
   ]
  },
  {
   "cell_type": "markdown",
   "id": "20ea41f4",
   "metadata": {},
   "source": [
    "We canot use special symbols like !, @, #, $, % etc. in our identifier."
   ]
  },
  {
   "cell_type": "code",
   "execution_count": null,
   "id": "4a0b337d",
   "metadata": {},
   "outputs": [],
   "source": [
    "a@ = 10"
   ]
  },
  {
   "cell_type": "markdown",
   "id": "37dbc6cc",
   "metadata": {},
   "source": [
    "# Python Comments"
   ]
  },
  {
   "cell_type": "markdown",
   "id": "0415d22b",
   "metadata": {},
   "source": [
    "Comments are lines that exist in computer programs that are ignored by compilers and interpreters."
   ]
  },
  {
   "cell_type": "markdown",
   "id": "6f6b1c99",
   "metadata": {},
   "source": [
    "Inculding comments in programs makes code more readable for humans as it provides some information or explanation about what each part of a program is doing"
   ]
  },
  {
   "cell_type": "markdown",
   "id": "077f7a13",
   "metadata": {},
   "source": [
    "In general, it is a good idea to write comments while you are writing or updating a program as it is easy to forget you thought process later on , and comments written later may be less useful in the long term. "
   ]
  },
  {
   "cell_type": "markdown",
   "id": "7b680036",
   "metadata": {},
   "source": [
    "In python, we use the hash(#) symbol to start writing a comment."
   ]
  },
  {
   "cell_type": "code",
   "execution_count": 3,
   "id": "bf9d42d0",
   "metadata": {},
   "outputs": [
    {
     "name": "stdout",
     "output_type": "stream",
     "text": [
      "Hello, world\n"
     ]
    }
   ],
   "source": [
    "#Print Hello, world to console\n",
    "print(\"Hello, world\")"
   ]
  },
  {
   "cell_type": "markdown",
   "id": "aa4abe61",
   "metadata": {},
   "source": [
    "# Multi Line Command"
   ]
  },
  {
   "cell_type": "markdown",
   "id": "75a284dc",
   "metadata": {},
   "source": [
    "if we have comments that extend multiple lines, one way of doing it is to use hash(#) in the begining of each line."
   ]
  },
  {
   "cell_type": "code",
   "execution_count": 4,
   "id": "e7504c27",
   "metadata": {},
   "outputs": [],
   "source": [
    "#This is a long comment\n",
    "#and it extends\n",
    "#Multiple lines"
   ]
  },
  {
   "cell_type": "raw",
   "id": "ba6e6797",
   "metadata": {},
   "source": [
    "Another way of doing this is to use "
   ]
  }
 ],
 "metadata": {
  "kernelspec": {
   "display_name": "Python 3",
   "language": "python",
   "name": "python3"
  },
  "language_info": {
   "codemirror_mode": {
    "name": "ipython",
    "version": 3
   },
   "file_extension": ".py",
   "mimetype": "text/x-python",
   "name": "python",
   "nbconvert_exporter": "python",
   "pygments_lexer": "ipython3",
   "version": "3.8.8"
  }
 },
 "nbformat": 4,
 "nbformat_minor": 5
}
