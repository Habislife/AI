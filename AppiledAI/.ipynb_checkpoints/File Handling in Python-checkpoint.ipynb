{
 "cells": [
  {
   "cell_type": "markdown",
   "id": "1fb783bc",
   "metadata": {},
   "source": [
    "# File IO"
   ]
  },
  {
   "cell_type": "markdown",
   "id": "b25b8e6a",
   "metadata": {},
   "source": [
    "## Opening a file"
   ]
  },
  {
   "cell_type": "code",
   "execution_count": 3,
   "id": "ab0a2ec1",
   "metadata": {},
   "outputs": [],
   "source": [
    "f = open('example.txt', 'w')"
   ]
  },
  {
   "cell_type": "markdown",
   "id": "fcae5a3a",
   "metadata": {},
   "source": [
    "\n",
    "## Python File Mode"
   ]
  },
  {
   "cell_type": "raw",
   "id": "f018016d",
   "metadata": {},
   "source": [
    " Mode\tDescription\n",
    "r\tOpens a file for reading. (default)\n",
    "w\tOpens a file for writing. Creates a new file if it does not exist or truncates the file if it exists.\n",
    "x\tOpens a file for exclusive creation. If the file already exists, the operation fails.\n",
    "a\tOpens a file for appending at the end of the file without truncating it. Creates a new file if it does not exist.\n",
    "t\tOpens in text mode. (default)\n",
    "b\tOpens in binary mode.\n",
    "+\tOpens a file for updating (reading and writing)"
   ]
  },
  {
   "cell_type": "code",
   "execution_count": 5,
   "id": "674cc0a2",
   "metadata": {},
   "outputs": [],
   "source": [
    "f = open(\"example.txt\")      # equivalent to 'r' or 'rt'\n",
    "f = open(\"example.txt\",'w')  # write in text mode\n",
    "f = open(\"img.bmp\",'r+b') # read and write in binary mode"
   ]
  },
  {
   "cell_type": "markdown",
   "id": "fff08b83",
   "metadata": {},
   "source": [
    "## Closing a file "
   ]
  },
  {
   "cell_type": "code",
   "execution_count": 6,
   "id": "5e5e9275",
   "metadata": {},
   "outputs": [],
   "source": [
    "f = open('example.txt')\n",
    "f.close()"
   ]
  },
  {
   "cell_type": "code",
   "execution_count": null,
   "id": "1b6deb2e",
   "metadata": {},
   "outputs": [],
   "source": []
  }
 ],
 "metadata": {
  "kernelspec": {
   "display_name": "Python 3 (ipykernel)",
   "language": "python",
   "name": "python3"
  },
  "language_info": {
   "codemirror_mode": {
    "name": "ipython",
    "version": 3
   },
   "file_extension": ".py",
   "mimetype": "text/x-python",
   "name": "python",
   "nbconvert_exporter": "python",
   "pygments_lexer": "ipython3",
   "version": "3.9.7"
  }
 },
 "nbformat": 4,
 "nbformat_minor": 5
}
