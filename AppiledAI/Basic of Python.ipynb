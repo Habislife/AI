{
 "cells": [
  {
   "cell_type": "markdown",
   "id": "eae63c99",
   "metadata": {},
   "source": [
    "# Python Keywords"
   ]
  },
  {
   "cell_type": "markdown",
   "id": "ce796183",
   "metadata": {},
   "source": [
    "Keywords are the reserved words in python."
   ]
  },
  {
   "cell_type": "markdown",
   "id": "01093ae3",
   "metadata": {},
   "source": [
    "We can't use a keyword as variable name, function name or any other identifier."
   ]
  },
  {
   "cell_type": "markdown",
   "id": "2345e441",
   "metadata": {},
   "source": [
    "Keywords are case senstive."
   ]
  },
  {
   "cell_type": "code",
   "execution_count": 1,
   "id": "2a026beb",
   "metadata": {},
   "outputs": [
    {
     "name": "stdout",
     "output_type": "stream",
     "text": [
      "['False', 'None', 'True', 'and', 'as', 'assert', 'async', 'await', 'break', 'class', 'continue', 'def', 'del', 'elif', 'else', 'except', 'finally', 'for', 'from', 'global', 'if', 'import', 'in', 'is', 'lambda', 'nonlocal', 'not', 'or', 'pass', 'raise', 'return', 'try', 'while', 'with', 'yield']\n",
      "\n",
      "Total number of keywords :  35\n"
     ]
    }
   ],
   "source": [
    "import keyword\n",
    "\n",
    "print(keyword.kwlist)\n",
    "\n",
    "print('\\nTotal number of keywords : ',len(keyword.kwlist))"
   ]
  },
  {
   "cell_type": "markdown",
   "id": "7a98d2aa",
   "metadata": {},
   "source": [
    "# Identifiers"
   ]
  },
  {
   "cell_type": "markdown",
   "id": "dcb897d1",
   "metadata": {},
   "source": [
    "Identifier is the name given to entities like class, functions, variables etc. in Python.It helps differentiating one entity from another."
   ]
  },
  {
   "cell_type": "markdown",
   "id": "3bcf3a69",
   "metadata": {},
   "source": [
    "Rules for Writing Identifiers:"
   ]
  },
  {
   "cell_type": "markdown",
   "id": "ea115c08",
   "metadata": {},
   "source": [
    "1.Identifiers can be a combination of letters in lowercase(a to z) or uppercase (A to Z) or digits (0 to 9) or an underscore(_)."
   ]
  },
  {
   "cell_type": "markdown",
   "id": "66d9bddd",
   "metadata": {},
   "source": [
    "2.An identifiers cannot start with a digit. 1variable is invalid,but variable1 is perfectly fine."
   ]
  },
  {
   "cell_type": "markdown",
   "id": "f76a5072",
   "metadata": {},
   "source": [
    "3.Keywords cannot be used as identifiers."
   ]
  },
  {
   "cell_type": "code",
   "execution_count": 2,
   "id": "13d5ceb8",
   "metadata": {},
   "outputs": [
    {
     "ename": "SyntaxError",
     "evalue": "invalid syntax (<ipython-input-2-2dd14932245f>, line 2)",
     "output_type": "error",
     "traceback": [
      "\u001b[1;36m  File \u001b[1;32m\"<ipython-input-2-2dd14932245f>\"\u001b[1;36m, line \u001b[1;32m2\u001b[0m\n\u001b[1;33m    global = 1\u001b[0m\n\u001b[1;37m           ^\u001b[0m\n\u001b[1;31mSyntaxError\u001b[0m\u001b[1;31m:\u001b[0m invalid syntax\n"
     ]
    }
   ],
   "source": [
    "abc_12 = 12\n",
    "global = 1"
   ]
  },
  {
   "cell_type": "markdown",
   "id": "56bce7eb",
   "metadata": {},
   "source": [
    "We canot use special symbols like !, @, #, $, % etc. in our identifier."
   ]
  },
  {
   "cell_type": "code",
   "execution_count": null,
   "id": "1483bebb",
   "metadata": {},
   "outputs": [],
   "source": [
    "a@ = 10"
   ]
  },
  {
   "cell_type": "markdown",
   "id": "c3baede7",
   "metadata": {},
   "source": [
    "# Python Comments"
   ]
  },
  {
   "cell_type": "markdown",
   "id": "2069e9b7",
   "metadata": {},
   "source": [
    "Comments are lines that exist in computer programs that are ignored by compilers and interpreters."
   ]
  },
  {
   "cell_type": "markdown",
   "id": "c9e3ba6f",
   "metadata": {},
   "source": [
    "Inculding comments in programs makes code more readable for humans as it provides some information or explanation about what each part of a program is doing"
   ]
  },
  {
   "cell_type": "markdown",
   "id": "ddbc18b4",
   "metadata": {},
   "source": [
    "In general, it is a good idea to write comments while you are writing or updating a program as it is easy to forget you thought process later on , and comments written later may be less useful in the long term. "
   ]
  },
  {
   "cell_type": "markdown",
   "id": "09e88e19",
   "metadata": {},
   "source": [
    "In python, we use the hash(#) symbol to start writing a comment."
   ]
  },
  {
   "cell_type": "code",
   "execution_count": null,
   "id": "c3b7fde4",
   "metadata": {},
   "outputs": [],
   "source": [
    "#Print Hello, world to console\n",
    "print(\"Hello, world\")"
   ]
  },
  {
   "cell_type": "markdown",
   "id": "63a4d326",
   "metadata": {},
   "source": [
    "# Multi Line Command"
   ]
  },
  {
   "cell_type": "markdown",
   "id": "065dd781",
   "metadata": {},
   "source": [
    "if we have comments that extend multiple lines, one way of doing it is to use hash(#) in the begining of each line."
   ]
  },
  {
   "cell_type": "code",
   "execution_count": null,
   "id": "1f3eb639",
   "metadata": {},
   "outputs": [],
   "source": [
    "#This is a long comment\n",
    "#and it extends\n",
    "#Multiple lines"
   ]
  },
  {
   "cell_type": "markdown",
   "id": "67c72369",
   "metadata": {},
   "source": [
    "Another way of doing this is to use triple quotes, either ''' or \"\"\"."
   ]
  },
  {
   "cell_type": "code",
   "execution_count": null,
   "id": "8a7e3d0f",
   "metadata": {},
   "outputs": [],
   "source": [
    "\"\"\"This is also a \n",
    "perfect example of\n",
    "multi-line comments\"\"\""
   ]
  },
  {
   "cell_type": "markdown",
   "id": "42e7e89b",
   "metadata": {},
   "source": [
    " # Python Identation"
   ]
  },
  {
   "cell_type": "markdown",
   "id": "99748624",
   "metadata": {},
   "source": [
    "1. Most of the programming languauges like C, C++, Java use braces {} to define a block of code."
   ]
  },
  {
   "cell_type": "markdown",
   "id": "69c82c54",
   "metadata": {},
   "source": [
    "Python uses identation."
   ]
  },
  {
   "cell_type": "markdown",
   "id": "71b4f417",
   "metadata": {},
   "source": [
    "2. A code block (body of a function, loop etc.) starts with indentation and ends with the first unindented line. The amount of indentation is up to you, but it must be consistent throughout that block."
   ]
  },
  {
   "cell_type": "markdown",
   "id": "7be1ed9c",
   "metadata": {},
   "source": [
    "3. Generally four whitespaces are used for indentation and is preferred over tabs."
   ]
  },
  {
   "cell_type": "code",
   "execution_count": null,
   "id": "020ede10",
   "metadata": {},
   "outputs": [],
   "source": [
    "for i in range(10): # we will look at for loop in detail later.\n",
    "    print(i)\n",
    "    print(i*2)\n",
    "print(100)"
   ]
  },
  {
   "cell_type": "markdown",
   "id": "6c134cd7",
   "metadata": {},
   "source": [
    "Indentation can be ignored in line continuation.But it's good idea to always indent.It makes the code more readable."
   ]
  },
  {
   "cell_type": "code",
   "execution_count": null,
   "id": "e3a3cfbe",
   "metadata": {},
   "outputs": [],
   "source": [
    "if True:\n",
    "    print('Machince Learning')\n",
    "    c = \"AAIC\""
   ]
  },
  {
   "cell_type": "markdown",
   "id": "b52af130",
   "metadata": {},
   "source": [
    "# Python Statement"
   ]
  },
  {
   "cell_type": "markdown",
   "id": "88a176ea",
   "metadata": {},
   "source": [
    "Instructions that a Python interpreter can execute are called statements."
   ]
  },
  {
   "cell_type": "markdown",
   "id": "844ea30e",
   "metadata": {},
   "source": [
    "###### Examples:"
   ]
  },
  {
   "cell_type": "code",
   "execution_count": 3,
   "id": "58ecc582",
   "metadata": {},
   "outputs": [],
   "source": [
    "a = 1 #single statement"
   ]
  },
  {
   "cell_type": "markdown",
   "id": "6064890e",
   "metadata": {},
   "source": [
    "# Multi-Line Statement"
   ]
  },
  {
   "cell_type": "markdown",
   "id": "924660d3",
   "metadata": {},
   "source": [
    "In Python, end of a statement is marked by a newline character. But we can make a statement extend over multiple lines with line continuation character()."
   ]
  },
  {
   "cell_type": "code",
   "execution_count": 4,
   "id": "d1a97f54",
   "metadata": {},
   "outputs": [],
   "source": [
    "a = 1 + 2 + 3 + \\\n",
    "4 + 5 + 6 + \\\n",
    "7 + 8"
   ]
  },
  {
   "cell_type": "code",
   "execution_count": 5,
   "id": "038f387d",
   "metadata": {},
   "outputs": [
    {
     "name": "stdout",
     "output_type": "stream",
     "text": [
      "36\n"
     ]
    }
   ],
   "source": [
    "print(a)"
   ]
  },
  {
   "cell_type": "code",
   "execution_count": 6,
   "id": "03ff8ead",
   "metadata": {},
   "outputs": [
    {
     "name": "stdout",
     "output_type": "stream",
     "text": [
      "36\n"
     ]
    }
   ],
   "source": [
    "#another way is to use paranthesis \n",
    "a = (1 + 2 + 3 +\n",
    "     4 + 5 + 6 +\n",
    "     7 + 8)\n",
    "print(a)"
   ]
  },
  {
   "cell_type": "code",
   "execution_count": 7,
   "id": "9972af28",
   "metadata": {},
   "outputs": [],
   "source": [
    "a = 10; b = 20; c = 30 #put multiple statements in a single line using ;"
   ]
  },
  {
   "cell_type": "markdown",
   "id": "6f39b870",
   "metadata": {},
   "source": [
    "# Variables"
   ]
  },
  {
   "cell_type": "markdown",
   "id": "42112eaa",
   "metadata": {},
   "source": [
    "A variable is a location in memory used to store some data (value)."
   ]
  },
  {
   "cell_type": "markdown",
   "id": "dab0b730",
   "metadata": {},
   "source": [
    "They are given unique names to differentiate between different memory locations. The rules for writing variable name is same as the rules for writing identifiers in Python."
   ]
  },
  {
   "cell_type": "markdown",
   "id": "dbd7ed45",
   "metadata": {},
   "source": [
    "We don't need to declare a variable before using it. In Python, we simply assign a value to avariable and it wil exist. We don't even have to declare the type of the variable. This is handled internally according to the type of value we assign to the variable."
   ]
  },
  {
   "cell_type": "markdown",
   "id": "73a9e449",
   "metadata": {},
   "source": [
    "# Variable Assignments"
   ]
  },
  {
   "cell_type": "code",
   "execution_count": 8,
   "id": "6ccd26bb",
   "metadata": {},
   "outputs": [],
   "source": [
    "# We use the assignment operator (=) to assign value ti a variable\n",
    "\n",
    "a = 10\n",
    "b = 5.5\n",
    "c = \"Ml\""
   ]
  },
  {
   "cell_type": "markdown",
   "id": "d58b37f1",
   "metadata": {},
   "source": [
    "# Multiple Assignments"
   ]
  },
  {
   "cell_type": "code",
   "execution_count": 9,
   "id": "493462bf",
   "metadata": {},
   "outputs": [],
   "source": [
    "a, b, c = 10, 5.5, \"ML\""
   ]
  },
  {
   "cell_type": "code",
   "execution_count": 10,
   "id": "68905d2a",
   "metadata": {},
   "outputs": [],
   "source": [
    "a = b = c = \"AI\" #assign the same value to multiple variable at once."
   ]
  },
  {
   "cell_type": "markdown",
   "id": "c96f1ef1",
   "metadata": {},
   "source": [
    "# Storage Locations"
   ]
  },
  {
   "cell_type": "code",
   "execution_count": 11,
   "id": "ba5cc93a",
   "metadata": {},
   "outputs": [
    {
     "name": "stdout",
     "output_type": "stream",
     "text": [
      "140728323024752\n"
     ]
    }
   ],
   "source": [
    "x = 3\n",
    "print(id(x))      #print address of variable x"
   ]
  },
  {
   "cell_type": "code",
   "execution_count": 13,
   "id": "2b67de4c",
   "metadata": {},
   "outputs": [
    {
     "name": "stdout",
     "output_type": "stream",
     "text": [
      "140728323024752\n"
     ]
    }
   ],
   "source": [
    "y = 3\n",
    "print(id(y))"
   ]
  },
  {
   "cell_type": "markdown",
   "id": "5b93c6a4",
   "metadata": {},
   "source": [
    "Observation:"
   ]
  },
  {
   "cell_type": "markdown",
   "id": "16e650e8",
   "metadata": {},
   "source": [
    "x and y points to same memory location"
   ]
  },
  {
   "cell_type": "code",
   "execution_count": 14,
   "id": "eec7b973",
   "metadata": {},
   "outputs": [
    {
     "name": "stdout",
     "output_type": "stream",
     "text": [
      "140728323024720\n"
     ]
    }
   ],
   "source": [
    "y = 2\n",
    "print(id(y))"
   ]
  },
  {
   "cell_type": "markdown",
   "id": "3f1e41fe",
   "metadata": {},
   "source": [
    "# Data Types"
   ]
  },
  {
   "cell_type": "markdown",
   "id": "b39b252e",
   "metadata": {},
   "source": [
    "Every value in Python has a datatype. Since everything is an object in python programming, data types are actually classes and variables are instance(object) of these classes."
   ]
  },
  {
   "cell_type": "markdown",
   "id": "e7a957b7",
   "metadata": {},
   "source": [
    "## Numbers"
   ]
  },
  {
   "cell_type": "markdown",
   "id": "0147ffa3",
   "metadata": {},
   "source": [
    "Integers, floating point numbers and complex numbers falls under Python numbers category. They are defined as int, float and complex class in Python."
   ]
  },
  {
   "cell_type": "markdown",
   "id": "943f18c4",
   "metadata": {},
   "source": [
    "We can use the type() function to know which class a variable or a value belongd to and the isinstance() function to check if an object belongs to a particular class."
   ]
  },
  {
   "cell_type": "code",
   "execution_count": 15,
   "id": "8d2447e6",
   "metadata": {},
   "outputs": [
    {
     "name": "stdout",
     "output_type": "stream",
     "text": [
      "5 is of type <class 'int'>\n"
     ]
    }
   ],
   "source": [
    "a= 5        #data type is implicitly set to integer\n",
    "print(a, \"is of type\", type(a))"
   ]
  },
  {
   "cell_type": "code",
   "execution_count": 16,
   "id": "614af293",
   "metadata": {},
   "outputs": [
    {
     "name": "stdout",
     "output_type": "stream",
     "text": [
      "2.5 is of type <class 'float'>\n"
     ]
    }
   ],
   "source": [
    "a= 2.5        #data type is changed to float\n",
    "print(a, \"is of type\", type(a))"
   ]
  },
  {
   "cell_type": "code",
   "execution_count": 17,
   "id": "dc06484b",
   "metadata": {},
   "outputs": [
    {
     "name": "stdout",
     "output_type": "stream",
     "text": [
      "(1+2j) is of type <class 'complex'>\n"
     ]
    }
   ],
   "source": [
    "a= 1 + 2j        #data type is changed to complex number\n",
    "print(a, \"is of type\", type(a))"
   ]
  },
  {
   "cell_type": "markdown",
   "id": "09dcbfc9",
   "metadata": {},
   "source": [
    "## Boolean"
   ]
  },
  {
   "cell_type": "markdown",
   "id": "f76f4b5a",
   "metadata": {},
   "source": [
    "Boolean represents the truth values False and True"
   ]
  },
  {
   "cell_type": "code",
   "execution_count": 18,
   "id": "054ad484",
   "metadata": {},
   "outputs": [
    {
     "name": "stdout",
     "output_type": "stream",
     "text": [
      "True is of type <class 'bool'>\n"
     ]
    }
   ],
   "source": [
    "a= True        #a is a boolean type\n",
    "print(a, \"is of type\", type(a))"
   ]
  },
  {
   "cell_type": "markdown",
   "id": "43905b0c",
   "metadata": {},
   "source": [
    "## Python Strings"
   ]
  },
  {
   "cell_type": "markdown",
   "id": "21ff930f",
   "metadata": {},
   "source": [
    "String is sequence of Unicode characters."
   ]
  },
  {
   "cell_type": "markdown",
   "id": "019bf2ae",
   "metadata": {},
   "source": [
    "We can use single quotes or double quotes to represent strings."
   ]
  },
  {
   "cell_type": "markdown",
   "id": "6563559d",
   "metadata": {},
   "source": [
    "Multi-line strings can be denoted using triple quotes, ''' or \"\"\"."
   ]
  },
  {
   "cell_type": "markdown",
   "id": "55603e71",
   "metadata": {},
   "source": [
    "A string in Python consists of a series or sequence of characters - letters,numbers, and special characters."
   ]
  },
  {
   "cell_type": "markdown",
   "id": "31b6fc0d",
   "metadata": {},
   "source": [
    "Strings can be indexed - often synonymously called subscripted as well."
   ]
  },
  {
   "cell_type": "markdown",
   "id": "ed2ea94b",
   "metadata": {},
   "source": [
    "Similar to C, the first character of a string has  the index 0."
   ]
  },
  {
   "cell_type": "code",
   "execution_count": 19,
   "id": "ee548253",
   "metadata": {},
   "outputs": [
    {
     "name": "stdout",
     "output_type": "stream",
     "text": [
      "<class 'str'>\n"
     ]
    }
   ],
   "source": [
    "s = '''This is Online AI course'''\n",
    "print(type(s))"
   ]
  },
  {
   "cell_type": "code",
   "execution_count": 20,
   "id": "e7fad943",
   "metadata": {},
   "outputs": [
    {
     "name": "stdout",
     "output_type": "stream",
     "text": [
      "e\n"
     ]
    }
   ],
   "source": [
    "print(s[-1])\n",
    "#last char s[lens(s)-1] or s[-1]"
   ]
  },
  {
   "cell_type": "code",
   "execution_count": 21,
   "id": "256bcf55",
   "metadata": {},
   "outputs": [
    {
     "data": {
      "text/plain": [
       "'is Online AI course'"
      ]
     },
     "execution_count": 21,
     "metadata": {},
     "output_type": "execute_result"
    }
   ],
   "source": [
    "#slicing\n",
    "s[5:]"
   ]
  },
  {
   "cell_type": "markdown",
   "id": "f3774fc0",
   "metadata": {},
   "source": [
    "## Python List"
   ]
  },
  {
   "cell_type": "markdown",
   "id": "418c2fd9",
   "metadata": {},
   "source": [
    "List is an ordered sequence of items.It is one of most used datatype in Python and is very flexible.All the items in a list do not need to be of the same type."
   ]
  },
  {
   "cell_type": "markdown",
   "id": "7aca8d1b",
   "metadata": {},
   "source": [
    "Declaring a list is, Items separated by commas are enclosed within brackets [ ]."
   ]
  },
  {
   "cell_type": "code",
   "execution_count": 33,
   "id": "da839f81",
   "metadata": {},
   "outputs": [
    {
     "name": "stdout",
     "output_type": "stream",
     "text": [
      "20.5\n"
     ]
    }
   ],
   "source": [
    "a = [10, 20.5, \"Hello\"]\n",
    "print(a[1])"
   ]
  },
  {
   "cell_type": "markdown",
   "id": "def2777b",
   "metadata": {},
   "source": [
    "Lists are mutable, meaning, value of elements of a list can be altered."
   ]
  },
  {
   "cell_type": "code",
   "execution_count": 34,
   "id": "c3509649",
   "metadata": {},
   "outputs": [
    {
     "name": "stdout",
     "output_type": "stream",
     "text": [
      "[10, 30.7, 'Hello']\n"
     ]
    }
   ],
   "source": [
    "a[1] = 30.7\n",
    "print(a)"
   ]
  },
  {
   "cell_type": "markdown",
   "id": "a5136737",
   "metadata": {},
   "source": [
    "## Python Tuple"
   ]
  },
  {
   "cell_type": "markdown",
   "id": "fbd2da3a",
   "metadata": {},
   "source": [
    "Tuple is an ordered sequence of items same as list. The only difference is that tuples are immutable.Tuples once created cannot be modified"
   ]
  },
  {
   "cell_type": "code",
   "execution_count": 35,
   "id": "b5b81ab9",
   "metadata": {},
   "outputs": [],
   "source": [
    "t = (1, 1.5, \"ML\")"
   ]
  },
  {
   "cell_type": "code",
   "execution_count": 36,
   "id": "0ae31c45",
   "metadata": {},
   "outputs": [
    {
     "name": "stdout",
     "output_type": "stream",
     "text": [
      "1.5\n"
     ]
    }
   ],
   "source": [
    "print(t[1])"
   ]
  },
  {
   "cell_type": "code",
   "execution_count": 37,
   "id": "8cde742c",
   "metadata": {},
   "outputs": [
    {
     "ename": "TypeError",
     "evalue": "'tuple' object does not support item assignment",
     "output_type": "error",
     "traceback": [
      "\u001b[1;31m---------------------------------------------------------------------------\u001b[0m",
      "\u001b[1;31mTypeError\u001b[0m                                 Traceback (most recent call last)",
      "\u001b[1;32m<ipython-input-37-826a3e5c5c91>\u001b[0m in \u001b[0;36m<module>\u001b[1;34m\u001b[0m\n\u001b[1;32m----> 1\u001b[1;33m \u001b[0mt\u001b[0m\u001b[1;33m[\u001b[0m\u001b[1;36m1\u001b[0m\u001b[1;33m]\u001b[0m \u001b[1;33m=\u001b[0m \u001b[1;36m1.25\u001b[0m\u001b[1;33m\u001b[0m\u001b[1;33m\u001b[0m\u001b[0m\n\u001b[0m",
      "\u001b[1;31mTypeError\u001b[0m: 'tuple' object does not support item assignment"
     ]
    }
   ],
   "source": [
    "t[1] = 1.25"
   ]
  },
  {
   "cell_type": "markdown",
   "id": "9e800e91",
   "metadata": {},
   "source": [
    "## Python Set"
   ]
  },
  {
   "cell_type": "markdown",
   "id": "dbbdaf71",
   "metadata": {},
   "source": [
    "Set is an unordered collection of unique items. Set is defined by values separated by comma inside braces{}. Items in set are not ordered."
   ]
  },
  {
   "cell_type": "code",
   "execution_count": 56,
   "id": "566cc3bc",
   "metadata": {},
   "outputs": [
    {
     "name": "stdout",
     "output_type": "stream",
     "text": [
      "{5, 40, 10, 20, 30}\n"
     ]
    }
   ],
   "source": [
    "a = {10, 30, 20, 40, 5}\n",
    "print(a)"
   ]
  },
  {
   "cell_type": "code",
   "execution_count": 30,
   "id": "355f5ad2",
   "metadata": {},
   "outputs": [
    {
     "name": "stdout",
     "output_type": "stream",
     "text": [
      "<class 'set'>\n"
     ]
    }
   ],
   "source": [
    "print(type(a))"
   ]
  },
  {
   "cell_type": "markdown",
   "id": "a54a07de",
   "metadata": {},
   "source": [
    "We can perform set operations like union ,intersection ontwo sets.Set have unique values."
   ]
  },
  {
   "cell_type": "code",
   "execution_count": 32,
   "id": "800ae827",
   "metadata": {},
   "outputs": [
    {
     "name": "stdout",
     "output_type": "stream",
     "text": [
      "{10, 20, 30}\n"
     ]
    }
   ],
   "source": [
    "s={10,20,20,30,30,30}\n",
    "print(s)       #automatically set won't consider duplicate element"
   ]
  },
  {
   "cell_type": "code",
   "execution_count": 38,
   "id": "4e8132e8",
   "metadata": {},
   "outputs": [
    {
     "ename": "TypeError",
     "evalue": "'set' object is not subscriptable",
     "output_type": "error",
     "traceback": [
      "\u001b[1;31m---------------------------------------------------------------------------\u001b[0m",
      "\u001b[1;31mTypeError\u001b[0m                                 Traceback (most recent call last)",
      "\u001b[1;32m<ipython-input-38-1138bc85286b>\u001b[0m in \u001b[0;36m<module>\u001b[1;34m\u001b[0m\n\u001b[1;32m----> 1\u001b[1;33m \u001b[0mprint\u001b[0m\u001b[1;33m(\u001b[0m\u001b[0ms\u001b[0m\u001b[1;33m[\u001b[0m\u001b[1;36m1\u001b[0m\u001b[1;33m]\u001b[0m\u001b[1;33m)\u001b[0m  \u001b[1;31m# we can't print particular element in set because it's unorder collections of items\u001b[0m\u001b[1;33m\u001b[0m\u001b[1;33m\u001b[0m\u001b[0m\n\u001b[0m",
      "\u001b[1;31mTypeError\u001b[0m: 'set' object is not subscriptable"
     ]
    }
   ],
   "source": [
    "print(s[1])  # we can't print particular element in set because it's unorder collections of items"
   ]
  },
  {
   "cell_type": "markdown",
   "id": "892ba5f1",
   "metadata": {},
   "source": [
    "## Python Dictionary"
   ]
  },
  {
   "cell_type": "markdown",
   "id": "9f0f9de7",
   "metadata": {},
   "source": [
    "Dictionary is an unordered collection of key-value pairs."
   ]
  },
  {
   "cell_type": "markdown",
   "id": "210f3826",
   "metadata": {},
   "source": [
    "In Python, dictionaries are defined within braces{ } with each item being  a pair in the form key:value. Key and value of any type."
   ]
  },
  {
   "cell_type": "code",
   "execution_count": 58,
   "id": "31647c15",
   "metadata": {},
   "outputs": [
    {
     "name": "stdout",
     "output_type": "stream",
     "text": [
      "apple\n"
     ]
    }
   ],
   "source": [
    "d = {'a': \"apple\", 'b': \"bat\"}\n",
    "print(d['a'])"
   ]
  },
  {
   "cell_type": "markdown",
   "id": "a922db21",
   "metadata": {},
   "source": [
    "## Conversion between Datatypes"
   ]
  },
  {
   "cell_type": "markdown",
   "id": "f657387f",
   "metadata": {},
   "source": [
    "We can convert between different data types by using different type conversion function like int(), float(), str() etc."
   ]
  },
  {
   "cell_type": "code",
   "execution_count": 42,
   "id": "3e6347e6",
   "metadata": {},
   "outputs": [
    {
     "data": {
      "text/plain": [
       "5.0"
      ]
     },
     "execution_count": 42,
     "metadata": {},
     "output_type": "execute_result"
    }
   ],
   "source": [
    "float(5)"
   ]
  },
  {
   "cell_type": "code",
   "execution_count": 44,
   "id": "2a96a4b3",
   "metadata": {},
   "outputs": [
    {
     "data": {
      "text/plain": [
       "100"
      ]
     },
     "execution_count": 44,
     "metadata": {},
     "output_type": "execute_result"
    }
   ],
   "source": [
    "int(100.5)"
   ]
  },
  {
   "cell_type": "code",
   "execution_count": 45,
   "id": "9f86a49a",
   "metadata": {},
   "outputs": [
    {
     "data": {
      "text/plain": [
       "'20'"
      ]
     },
     "execution_count": 45,
     "metadata": {},
     "output_type": "execute_result"
    }
   ],
   "source": [
    "str(20)"
   ]
  },
  {
   "cell_type": "markdown",
   "id": "03f1fe19",
   "metadata": {},
   "source": [
    "Conversion to and from string must contain compatible values."
   ]
  },
  {
   "cell_type": "code",
   "execution_count": 47,
   "id": "e6bb6e4a",
   "metadata": {},
   "outputs": [
    {
     "ename": "ValueError",
     "evalue": "invalid literal for int() with base 10: '10p'",
     "output_type": "error",
     "traceback": [
      "\u001b[1;31m---------------------------------------------------------------------------\u001b[0m",
      "\u001b[1;31mValueError\u001b[0m                                Traceback (most recent call last)",
      "\u001b[1;32m<ipython-input-47-8bb83f613c14>\u001b[0m in \u001b[0;36m<module>\u001b[1;34m\u001b[0m\n\u001b[1;32m----> 1\u001b[1;33m \u001b[0mint\u001b[0m\u001b[1;33m(\u001b[0m\u001b[1;34m'10p'\u001b[0m\u001b[1;33m)\u001b[0m\u001b[1;33m\u001b[0m\u001b[1;33m\u001b[0m\u001b[0m\n\u001b[0m",
      "\u001b[1;31mValueError\u001b[0m: invalid literal for int() with base 10: '10p'"
     ]
    }
   ],
   "source": [
    "int('10p')"
   ]
  },
  {
   "cell_type": "code",
   "execution_count": 51,
   "id": "9f5eb7b7",
   "metadata": {},
   "outputs": [
    {
     "name": "stdout",
     "output_type": "stream",
     "text": [
      "Congratulations, satish! You just wrote 100 lines of code\n"
     ]
    }
   ],
   "source": [
    "user = 'satish'\n",
    "lines = 100\n",
    "print(\"Congratulations, \" + user + \"! You just wrote \" + str(lines) + \" lines of code\" )\n",
    "#remove str and gives error"
   ]
  },
  {
   "cell_type": "markdown",
   "id": "4cdba755",
   "metadata": {},
   "source": [
    "We can convert one sequence to other"
   ]
  },
  {
   "cell_type": "code",
   "execution_count": 54,
   "id": "f0631f24",
   "metadata": {},
   "outputs": [
    {
     "name": "stdout",
     "output_type": "stream",
     "text": [
      "<class 'list'>\n",
      "<class 'set'>\n"
     ]
    }
   ],
   "source": [
    "a = [1, 2, 3]\n",
    "\n",
    "print(type(a))\n",
    "\n",
    "s = set(a)\n",
    "\n",
    "print(type(s))"
   ]
  },
  {
   "cell_type": "code",
   "execution_count": 55,
   "id": "f5d6b57c",
   "metadata": {},
   "outputs": [
    {
     "data": {
      "text/plain": [
       "['H', 'e', 'l', 'l', 'o']"
      ]
     },
     "execution_count": 55,
     "metadata": {},
     "output_type": "execute_result"
    }
   ],
   "source": [
    "list(\"Hello\")"
   ]
  },
  {
   "cell_type": "markdown",
   "id": "43cc221e",
   "metadata": {},
   "source": [
    "# Python Input and Output"
   ]
  },
  {
   "cell_type": "markdown",
   "id": "8c279e8e",
   "metadata": {},
   "source": [
    "## Python Output"
   ]
  },
  {
   "cell_type": "markdown",
   "id": "f32181a8",
   "metadata": {},
   "source": [
    "We use the print() function to output data to the standard outpiut device"
   ]
  },
  {
   "cell_type": "code",
   "execution_count": 59,
   "id": "bbf519c3",
   "metadata": {},
   "outputs": [
    {
     "name": "stdout",
     "output_type": "stream",
     "text": [
      "Hello World\n"
     ]
    }
   ],
   "source": [
    "print(\"Hello World\")"
   ]
  },
  {
   "cell_type": "code",
   "execution_count": 62,
   "id": "d5ab21a1",
   "metadata": {},
   "outputs": [
    {
     "name": "stdout",
     "output_type": "stream",
     "text": [
      "The value of a is 10\n",
      "The value of a is 10\n"
     ]
    }
   ],
   "source": [
    "a = 10\n",
    "print(\"The value of a is\", a) #python 3\n",
    "print(\"The value of a is \"+ str(a))"
   ]
  },
  {
   "cell_type": "markdown",
   "id": "5beb9aa2",
   "metadata": {},
   "source": [
    "## Output Formatting"
   ]
  },
  {
   "cell_type": "code",
   "execution_count": 64,
   "id": "4780ce9f",
   "metadata": {},
   "outputs": [
    {
     "name": "stdout",
     "output_type": "stream",
     "text": [
      "The value of a is 10 and b is 20\n"
     ]
    }
   ],
   "source": [
    "a = 10; b = 20 # multiple statements in single line\n",
    "\n",
    "print(\"The value of a is {} and b is {}\".format(a,b))"
   ]
  },
  {
   "cell_type": "code",
   "execution_count": 65,
   "id": "e6d4910b",
   "metadata": {},
   "outputs": [
    {
     "name": "stdout",
     "output_type": "stream",
     "text": [
      "The value of a is 20 and b is 10\n"
     ]
    }
   ],
   "source": [
    "a = 10; b = 20 # multiple statements in single line\n",
    "\n",
    "print(\"The value of a is {1} and b is {0}\".format(a,b))"
   ]
  },
  {
   "cell_type": "code",
   "execution_count": 67,
   "id": "96931814",
   "metadata": {},
   "outputs": [
    {
     "name": "stdout",
     "output_type": "stream",
     "text": [
      "Hello satish, Good Morning\n"
     ]
    }
   ],
   "source": [
    "# We can use keyword arguments to format the string\n",
    "print(\"Hello {name}, {greeting}\".format(name=\"satish\", greeting=\"Good Morning\"))"
   ]
  },
  {
   "cell_type": "code",
   "execution_count": 68,
   "id": "1a1a392f",
   "metadata": {},
   "outputs": [
    {
     "name": "stdout",
     "output_type": "stream",
     "text": [
      "The story of Bill, Manfred, and Georg\n"
     ]
    }
   ],
   "source": [
    "# We can combine positional arguments with keyword arguments\n",
    "print('The story of {0}, {1}, and {other}'.format('Bill', 'Manfred' , other ='Georg'))"
   ]
  },
  {
   "cell_type": "markdown",
   "id": "7f61ab08",
   "metadata": {},
   "source": [
    "## Python Input"
   ]
  },
  {
   "cell_type": "markdown",
   "id": "11cb6396",
   "metadata": {},
   "source": [
    "want to take the input from the user. In Python, we have the input() function to allow this"
   ]
  },
  {
   "cell_type": "code",
   "execution_count": 70,
   "id": "53666e39",
   "metadata": {},
   "outputs": [
    {
     "name": "stdout",
     "output_type": "stream",
     "text": [
      "Enter a number: 1234\n",
      "1234\n"
     ]
    }
   ],
   "source": [
    "num = input(\"Enter a number: \")\n",
    "print(num)"
   ]
  },
  {
   "cell_type": "markdown",
   "id": "95950445",
   "metadata": {},
   "source": [
    "# Operators"
   ]
  },
  {
   "cell_type": "markdown",
   "id": "f512be2d",
   "metadata": {},
   "source": [
    "Operators are special symbols in Python that carry out arithmetic or logical computation. The value that the operator operates on is called the operand."
   ]
  },
  {
   "cell_type": "markdown",
   "id": "feb6c202",
   "metadata": {},
   "source": [
    "## Operator Types"
   ]
  },
  {
   "cell_type": "markdown",
   "id": "1728666a",
   "metadata": {},
   "source": [
    "1. Arithmetic operators"
   ]
  },
  {
   "cell_type": "markdown",
   "id": "d32d8d78",
   "metadata": {},
   "source": [
    "2. Comparison (Relational) operators"
   ]
  },
  {
   "cell_type": "markdown",
   "id": "af37abd3",
   "metadata": {},
   "source": [
    "3. Logical (Boolean) operators"
   ]
  },
  {
   "cell_type": "markdown",
   "id": "2e982d51",
   "metadata": {},
   "source": [
    "4. Bitwise operators"
   ]
  },
  {
   "cell_type": "markdown",
   "id": "5747f4ba",
   "metadata": {},
   "source": [
    "5. Assignment operators"
   ]
  },
  {
   "cell_type": "markdown",
   "id": "600669b7",
   "metadata": {},
   "source": [
    "6. Special operators"
   ]
  },
  {
   "cell_type": "code",
   "execution_count": 75,
   "id": "3d893b35",
   "metadata": {},
   "outputs": [
    {
     "name": "stdout",
     "output_type": "stream",
     "text": [
      "30\n",
      "-10\n",
      "200\n",
      "0.5\n",
      "1\n",
      "5\n",
      "729\n"
     ]
    }
   ],
   "source": [
    "x, y = 10, 20\n",
    "\n",
    "# addition\n",
    "print(x + y)\n",
    "\n",
    "# subtraction(-)\n",
    "print(x - y)\n",
    "# multiplication(*)\n",
    "print(x * y)\n",
    "# division(/)\n",
    "print(x / y)\n",
    "# modulo division(%)\n",
    "print(7 % 2)\n",
    "# Floor Division (//)\n",
    "print(26 // 5)\n",
    "# Exponent (**)\n",
    "print(9 ** 3)"
   ]
  },
  {
   "cell_type": "markdown",
   "id": "9cfee717",
   "metadata": {},
   "source": [
    "## Comparision Operators"
   ]
  },
  {
   "cell_type": "markdown",
   "id": "c7563494",
   "metadata": {},
   "source": [
    "Comparision operators are used to compare values. It either returns True or False according to the condition"
   ]
  },
  {
   "cell_type": "markdown",
   "id": "4bb55e63",
   "metadata": {},
   "source": [
    "    >, <, ==, !=, >=, <= are comparision operators"
   ]
  },
  {
   "cell_type": "code",
   "execution_count": 76,
   "id": "24787757",
   "metadata": {},
   "outputs": [
    {
     "name": "stdout",
     "output_type": "stream",
     "text": [
      "True\n",
      "False\n",
      "False\n",
      "True\n",
      "False\n",
      "True\n"
     ]
    }
   ],
   "source": [
    "a, b = 10, 20\n",
    "print(a < b) #check a is less than b\n",
    "#check a is greater than b\n",
    "print(a > b)\n",
    "#check a is equal to b\n",
    "print(a == b)\n",
    "#check a is not equal to b (!=)\n",
    "print(a != b)\n",
    "#check a is greater than or equal to b\n",
    "print(a >= b)\n",
    "#check a is less than equal to b\n",
    "print(a <= b)\n"
   ]
  },
  {
   "cell_type": "markdown",
   "id": "237577fb",
   "metadata": {},
   "source": [
    "## Logical Operators"
   ]
  },
  {
   "cell_type": "markdown",
   "id": "4debd48f",
   "metadata": {},
   "source": [
    "Logical operators are and, or, not operators."
   ]
  },
  {
   "cell_type": "code",
   "execution_count": 77,
   "id": "3fc0afb9",
   "metadata": {},
   "outputs": [
    {
     "name": "stdout",
     "output_type": "stream",
     "text": [
      "False\n",
      "True\n",
      "True\n"
     ]
    }
   ],
   "source": [
    "a, b = True, False\n",
    "\n",
    "# print a and b\n",
    "print(a and b)\n",
    "# print a or b\n",
    "print(a or b)\n",
    "# print a and b\n",
    "print(not b)\n"
   ]
  },
  {
   "cell_type": "markdown",
   "id": "c3faa444",
   "metadata": {},
   "source": [
    "## Bitwise operators"
   ]
  },
  {
   "cell_type": "markdown",
   "id": "be9f95e9",
   "metadata": {},
   "source": [
    "Bitwise operators act on operands as if they were string of binary digits. It operates bit by bit"
   ]
  },
  {
   "cell_type": "markdown",
   "id": "fd9bb70b",
   "metadata": {},
   "source": [
    "   &, |, ~, ^, >>, << are Bitwise operators"
   ]
  },
  {
   "cell_type": "code",
   "execution_count": 84,
   "id": "45f2244f",
   "metadata": {},
   "outputs": [
    {
     "name": "stdout",
     "output_type": "stream",
     "text": [
      "0\n",
      "14\n",
      "-11\n",
      "14\n",
      "0\n",
      "160\n"
     ]
    }
   ],
   "source": [
    "a, b = 10, 4\n",
    "\n",
    "#Bitwise AND\n",
    "print(a & b)\n",
    "#Bitwise OR\n",
    "print(a | b)\n",
    "#Bitwise NOT\n",
    "print(~a)\n",
    "#Bitwise XOR\n",
    "print(a ^ b)\n",
    "#Bitwise rightshift\n",
    "print(a>>b)\n",
    "#Bitwise leftshift\n",
    "print(a<<b)"
   ]
  },
  {
   "cell_type": "markdown",
   "id": "7d96f0ea",
   "metadata": {},
   "source": [
    "## Assignment operators"
   ]
  },
  {
   "cell_type": "markdown",
   "id": "bec0a00f",
   "metadata": {},
   "source": [
    "Assignment operators are used in Python to assign values to variables."
   ]
  },
  {
   "cell_type": "markdown",
   "id": "b0ebdf74",
   "metadata": {},
   "source": [
    "a = 5 is a simple assignment operatoe that assigns the value 5 on the right to the variable a on the left."
   ]
  },
  {
   "cell_type": "markdown",
   "id": "8b22fde0",
   "metadata": {},
   "source": [
    "  =, +=, -=, *=, /=, %=, //=, ***=, &=, |=, ^=, >>=, <<= are Assigment operators"
   ]
  },
  {
   "cell_type": "code",
   "execution_count": 89,
   "id": "b030e8c0",
   "metadata": {},
   "outputs": [
    {
     "name": "stdout",
     "output_type": "stream",
     "text": [
      "20\n",
      "15\n",
      "75\n",
      "15.0\n",
      "3.0\n",
      "1.0\n",
      "1.0\n"
     ]
    }
   ],
   "source": [
    "a = 10\n",
    "\n",
    "a += 10 #add AND\n",
    "print(a)\n",
    "\n",
    "#subrtact AND(-=)\n",
    "a -=5\n",
    "print(a)\n",
    "#Multiply And(*=)\n",
    "a *=5\n",
    "print(a)\n",
    "#Divide And(*=)\n",
    "a /=5\n",
    "print(a)\n",
    "#Modulus And(*=)\n",
    "a %=4\n",
    "print(a)\n",
    "#Floor Division(//=)\n",
    "a //=3\n",
    "print(a)\n",
    "#Exponent And(**=)\n",
    "a **=5\n",
    "print(a)"
   ]
  },
  {
   "cell_type": "markdown",
   "id": "6a215445",
   "metadata": {},
   "source": [
    "## Special Operators"
   ]
  },
  {
   "cell_type": "markdown",
   "id": "c964a553",
   "metadata": {},
   "source": [
    "### Identitiy Operators"
   ]
  },
  {
   "cell_type": "markdown",
   "id": "0aede6a0",
   "metadata": {},
   "source": [
    "is and is not are the identity operators in Python."
   ]
  },
  {
   "cell_type": "markdown",
   "id": "fb0bbaf7",
   "metadata": {},
   "source": [
    "They are used to check if two values (or variables) are located on the same part of the memory."
   ]
  },
  {
   "cell_type": "code",
   "execution_count": 90,
   "id": "f36cd525",
   "metadata": {},
   "outputs": [
    {
     "name": "stdout",
     "output_type": "stream",
     "text": [
      "True\n"
     ]
    }
   ],
   "source": [
    "a = 5\n",
    "b = 5\n",
    "print(a is b) # 5 is object created once both a and b points to same object check is not"
   ]
  },
  {
   "cell_type": "code",
   "execution_count": 92,
   "id": "1a105b1c",
   "metadata": {},
   "outputs": [
    {
     "name": "stdout",
     "output_type": "stream",
     "text": [
      "True\n"
     ]
    }
   ],
   "source": [
    "l1 =[1, 2, 3]\n",
    "l2 =[1, 2, 3]\n",
    "print(l1 is not l2)"
   ]
  },
  {
   "cell_type": "code",
   "execution_count": 93,
   "id": "1fcaa85f",
   "metadata": {},
   "outputs": [
    {
     "name": "stdout",
     "output_type": "stream",
     "text": [
      "False\n"
     ]
    }
   ],
   "source": [
    "s1 = \"AAIC\"\n",
    "s2 = \"AAIC\"\n",
    "print(s1 is not s2)"
   ]
  },
  {
   "cell_type": "markdown",
   "id": "71711d5b",
   "metadata": {},
   "source": [
    "### MemberShip Operators"
   ]
  },
  {
   "cell_type": "markdown",
   "id": "89428827",
   "metadata": {},
   "source": [
    "in and not in are the membership operators in Python."
   ]
  },
  {
   "cell_type": "markdown",
   "id": "bf0dc130",
   "metadata": {},
   "source": [
    "They are used to test whether a value or variable is found in a sequence (string, list, tuple, set and dictionary)."
   ]
  },
  {
   "cell_type": "code",
   "execution_count": 95,
   "id": "2d9d6c42",
   "metadata": {},
   "outputs": [
    {
     "name": "stdout",
     "output_type": "stream",
     "text": [
      "True\n",
      "False\n"
     ]
    }
   ],
   "source": [
    "lst = [1, 2, 3, 4]\n",
    "print(1 in lst) #check 1 is present in a given list or not\n",
    "\n",
    "#check 5 is present in a given list\n",
    "print(5 in lst)"
   ]
  },
  {
   "cell_type": "code",
   "execution_count": 96,
   "id": "ec10217c",
   "metadata": {},
   "outputs": [
    {
     "name": "stdout",
     "output_type": "stream",
     "text": [
      "False\n"
     ]
    }
   ],
   "source": [
    "d = {1: \"a\", 2: \"b\"} #this is a dictionary\n",
    "print(3 in d)"
   ]
  },
  {
   "cell_type": "markdown",
   "id": "3c70a2d3",
   "metadata": {},
   "source": [
    "# Python if ... else Statement"
   ]
  },
  {
   "cell_type": "markdown",
   "id": "88c8dc81",
   "metadata": {},
   "source": [
    "The if...elif...else statement is used in Python for decision making."
   ]
  },
  {
   "cell_type": "markdown",
   "id": "d597897c",
   "metadata": {},
   "source": [
    "## if statement syntax"
   ]
  },
  {
   "cell_type": "markdown",
   "id": "c180489b",
   "metadata": {},
   "source": [
    "if test expression :"
   ]
  },
  {
   "cell_type": "markdown",
   "id": "c8436600",
   "metadata": {},
   "source": [
    "       statement(s)"
   ]
  },
  {
   "cell_type": "markdown",
   "id": "a3df5bcf",
   "metadata": {},
   "source": [
    "The program evaluates the test expression and will execute statement(s) only if the text expression is True."
   ]
  },
  {
   "cell_type": "markdown",
   "id": "46544297",
   "metadata": {},
   "source": [
    "If the text expression is False, the statement(s) is not executed."
   ]
  },
  {
   "cell_type": "markdown",
   "id": "2c97fabf",
   "metadata": {},
   "source": [
    "Python interprets non-zero values as True. None and O are interpreted as False"
   ]
  },
  {
   "cell_type": "markdown",
   "id": "b21e8b0c",
   "metadata": {},
   "source": [
    "### Example"
   ]
  },
  {
   "cell_type": "code",
   "execution_count": 1,
   "id": "aee554a2",
   "metadata": {},
   "outputs": [
    {
     "name": "stdout",
     "output_type": "stream",
     "text": [
      "This will print always\n"
     ]
    }
   ],
   "source": [
    "num = 10\n",
    "#TRY 0, 1, and None\n",
    "if num >10:\n",
    "    print(\"Number is positive\")\n",
    "print(\"This will print always\")"
   ]
  },
  {
   "cell_type": "markdown",
   "id": "3a80c01c",
   "metadata": {},
   "source": [
    "## if ... else Statement"
   ]
  },
  {
   "cell_type": "markdown",
   "id": "a3fb511d",
   "metadata": {},
   "source": [
    "### Syntax:"
   ]
  },
  {
   "cell_type": "markdown",
   "id": "229d8873",
   "metadata": {},
   "source": [
    "if test expression :"
   ]
  },
  {
   "cell_type": "markdown",
   "id": "866264cd",
   "metadata": {},
   "source": [
    "       statement(s)"
   ]
  },
  {
   "cell_type": "markdown",
   "id": "750d31fa",
   "metadata": {},
   "source": [
    "else:"
   ]
  },
  {
   "cell_type": "markdown",
   "id": "e7418bdb",
   "metadata": {},
   "source": [
    "     Body of  else"
   ]
  },
  {
   "cell_type": "markdown",
   "id": "21a8c34b",
   "metadata": {},
   "source": [
    "### Example"
   ]
  },
  {
   "cell_type": "code",
   "execution_count": 4,
   "id": "4886450e",
   "metadata": {},
   "outputs": [
    {
     "name": "stdout",
     "output_type": "stream",
     "text": [
      "Number is negative\n"
     ]
    }
   ],
   "source": [
    "num = -10\n",
    "if num >0:\n",
    "    print(\"Number is positive\")\n",
    "else:\n",
    "    print(\"Number is negative\")"
   ]
  },
  {
   "cell_type": "markdown",
   "id": "25929d93",
   "metadata": {},
   "source": [
    "## if ... elif ... else Statement"
   ]
  },
  {
   "cell_type": "markdown",
   "id": "954fa368",
   "metadata": {},
   "source": [
    "### Syntax:"
   ]
  },
  {
   "cell_type": "markdown",
   "id": "87b6a0aa",
   "metadata": {},
   "source": [
    "if test expression :"
   ]
  },
  {
   "cell_type": "markdown",
   "id": "9463017e",
   "metadata": {},
   "source": [
    "       statement(s)"
   ]
  },
  {
   "cell_type": "markdown",
   "id": "80e85bd7",
   "metadata": {},
   "source": [
    "elif test expression :"
   ]
  },
  {
   "cell_type": "markdown",
   "id": "155ba37d",
   "metadata": {},
   "source": [
    "       Body of elif"
   ]
  },
  {
   "cell_type": "markdown",
   "id": "de80226b",
   "metadata": {},
   "source": [
    "else:"
   ]
  },
  {
   "cell_type": "markdown",
   "id": "8cf4c652",
   "metadata": {},
   "source": [
    "     Body of  else"
   ]
  },
  {
   "cell_type": "markdown",
   "id": "c6469d16",
   "metadata": {},
   "source": [
    "### Example"
   ]
  },
  {
   "cell_type": "code",
   "execution_count": 6,
   "id": "fbe47940",
   "metadata": {},
   "outputs": [
    {
     "name": "stdout",
     "output_type": "stream",
     "text": [
      "ZERO\n"
     ]
    }
   ],
   "source": [
    "num = 0\n",
    "if num >0:\n",
    "    print(\"Number is positive\")\n",
    "elif num ==0:\n",
    "    print(\"ZERO\")\n",
    "else:\n",
    "    print(\"Number is negative\")"
   ]
  },
  {
   "cell_type": "markdown",
   "id": "c7f2de57",
   "metadata": {},
   "source": [
    "## Nested if Statements"
   ]
  },
  {
   "cell_type": "markdown",
   "id": "607411bd",
   "metadata": {},
   "source": [
    "We can have a if...elif...else statement inside another if...elif...else statement. This is called nesting in computer programming."
   ]
  },
  {
   "cell_type": "markdown",
   "id": "f262c3f5",
   "metadata": {},
   "source": [
    "### Example:"
   ]
  },
  {
   "cell_type": "code",
   "execution_count": 8,
   "id": "1b5ac5b7",
   "metadata": {},
   "outputs": [
    {
     "name": "stdout",
     "output_type": "stream",
     "text": [
      "Positive Number\n"
     ]
    }
   ],
   "source": [
    "num = 10.5\n",
    "if num >=0:\n",
    "    if num == 0:\n",
    "        print(\"Zero\")\n",
    "    else:\n",
    "        print(\"Positive Number\")\n",
    "else:\n",
    "    print(\"Negative Number\")"
   ]
  },
  {
   "cell_type": "markdown",
   "id": "3ba1feed",
   "metadata": {},
   "source": [
    "#### Python program to find the largest element among three numbers"
   ]
  },
  {
   "cell_type": "code",
   "execution_count": 12,
   "id": "e077db2c",
   "metadata": {},
   "outputs": [
    {
     "name": "stdout",
     "output_type": "stream",
     "text": [
      "Largest element among three numbers is: 20\n"
     ]
    }
   ],
   "source": [
    "num1, num2, num3 = 10, 20, 5\n",
    "if (num1 >= num2) and (num1 >=num3):\n",
    "    largest = num1\n",
    "elif (num2 >= num1) and (num2 >=num3):\n",
    "    largest = num2\n",
    "else:\n",
    "    largest = num3\n",
    "print(\"Largest element among three numbers is: {}\".format(largest))"
   ]
  },
  {
   "cell_type": "code",
   "execution_count": null,
   "id": "5dd15522",
   "metadata": {},
   "outputs": [],
   "source": []
  }
 ],
 "metadata": {
  "kernelspec": {
   "display_name": "Python 3",
   "language": "python",
   "name": "python3"
  },
  "language_info": {
   "codemirror_mode": {
    "name": "ipython",
    "version": 3
   },
   "file_extension": ".py",
   "mimetype": "text/x-python",
   "name": "python",
   "nbconvert_exporter": "python",
   "pygments_lexer": "ipython3",
   "version": "3.8.8"
  }
 },
 "nbformat": 4,
 "nbformat_minor": 5
}
