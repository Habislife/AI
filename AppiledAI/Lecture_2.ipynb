{
 "cells": [
  {
   "cell_type": "markdown",
   "id": "eae63c99",
   "metadata": {},
   "source": [
    "# Python Keywords"
   ]
  },
  {
   "cell_type": "markdown",
   "id": "ce796183",
   "metadata": {},
   "source": [
    "Keywords are the reserved words in python."
   ]
  },
  {
   "cell_type": "markdown",
   "id": "01093ae3",
   "metadata": {},
   "source": [
    "We can't use a keyword as variable name, function name or any other identifier."
   ]
  },
  {
   "cell_type": "markdown",
   "id": "2345e441",
   "metadata": {},
   "source": [
    "Keywords are case senstive."
   ]
  },
  {
   "cell_type": "code",
   "execution_count": 1,
   "id": "2a026beb",
   "metadata": {},
   "outputs": [
    {
     "name": "stdout",
     "output_type": "stream",
     "text": [
      "['False', 'None', 'True', 'and', 'as', 'assert', 'async', 'await', 'break', 'class', 'continue', 'def', 'del', 'elif', 'else', 'except', 'finally', 'for', 'from', 'global', 'if', 'import', 'in', 'is', 'lambda', 'nonlocal', 'not', 'or', 'pass', 'raise', 'return', 'try', 'while', 'with', 'yield']\n",
      "\n",
      "Total number of keywords :  35\n"
     ]
    }
   ],
   "source": [
    "import keyword\n",
    "\n",
    "print(keyword.kwlist)\n",
    "\n",
    "print('\\nTotal number of keywords : ',len(keyword.kwlist))"
   ]
  },
  {
   "cell_type": "markdown",
   "id": "7a98d2aa",
   "metadata": {},
   "source": [
    "# Identifiers"
   ]
  },
  {
   "cell_type": "markdown",
   "id": "dcb897d1",
   "metadata": {},
   "source": [
    "Identifier is the name given to entities like class, functions, variables etc. in Python.It helps differentiating one entity from another."
   ]
  },
  {
   "cell_type": "markdown",
   "id": "3bcf3a69",
   "metadata": {},
   "source": [
    "Rules for Writing Identifiers:"
   ]
  },
  {
   "cell_type": "markdown",
   "id": "ea115c08",
   "metadata": {},
   "source": [
    "1.Identifiers can be a combination of letters in lowercase(a to z) or uppercase (A to Z) or digits (0 to 9) or an underscore(_)."
   ]
  },
  {
   "cell_type": "markdown",
   "id": "66d9bddd",
   "metadata": {},
   "source": [
    "2.An identifiers cannot start with a digit. 1variable is invalid,but variable1 is perfectly fine."
   ]
  },
  {
   "cell_type": "markdown",
   "id": "f76a5072",
   "metadata": {},
   "source": [
    "3.Keywords cannot be used as identifiers."
   ]
  },
  {
   "cell_type": "code",
   "execution_count": 2,
   "id": "13d5ceb8",
   "metadata": {},
   "outputs": [
    {
     "ename": "SyntaxError",
     "evalue": "invalid syntax (<ipython-input-2-2dd14932245f>, line 2)",
     "output_type": "error",
     "traceback": [
      "\u001b[1;36m  File \u001b[1;32m\"<ipython-input-2-2dd14932245f>\"\u001b[1;36m, line \u001b[1;32m2\u001b[0m\n\u001b[1;33m    global = 1\u001b[0m\n\u001b[1;37m           ^\u001b[0m\n\u001b[1;31mSyntaxError\u001b[0m\u001b[1;31m:\u001b[0m invalid syntax\n"
     ]
    }
   ],
   "source": [
    "abc_12 = 12\n",
    "global = 1"
   ]
  },
  {
   "cell_type": "markdown",
   "id": "56bce7eb",
   "metadata": {},
   "source": [
    "We canot use special symbols like !, @, #, $, % etc. in our identifier."
   ]
  },
  {
   "cell_type": "code",
   "execution_count": null,
   "id": "1483bebb",
   "metadata": {},
   "outputs": [],
   "source": [
    "a@ = 10"
   ]
  },
  {
   "cell_type": "markdown",
   "id": "c3baede7",
   "metadata": {},
   "source": [
    "# Python Comments"
   ]
  },
  {
   "cell_type": "markdown",
   "id": "2069e9b7",
   "metadata": {},
   "source": [
    "Comments are lines that exist in computer programs that are ignored by compilers and interpreters."
   ]
  },
  {
   "cell_type": "markdown",
   "id": "c9e3ba6f",
   "metadata": {},
   "source": [
    "Inculding comments in programs makes code more readable for humans as it provides some information or explanation about what each part of a program is doing"
   ]
  },
  {
   "cell_type": "markdown",
   "id": "ddbc18b4",
   "metadata": {},
   "source": [
    "In general, it is a good idea to write comments while you are writing or updating a program as it is easy to forget you thought process later on , and comments written later may be less useful in the long term. "
   ]
  },
  {
   "cell_type": "markdown",
   "id": "09e88e19",
   "metadata": {},
   "source": [
    "In python, we use the hash(#) symbol to start writing a comment."
   ]
  },
  {
   "cell_type": "code",
   "execution_count": null,
   "id": "c3b7fde4",
   "metadata": {},
   "outputs": [],
   "source": [
    "#Print Hello, world to console\n",
    "print(\"Hello, world\")"
   ]
  },
  {
   "cell_type": "markdown",
   "id": "63a4d326",
   "metadata": {},
   "source": [
    "# Multi Line Command"
   ]
  },
  {
   "cell_type": "markdown",
   "id": "065dd781",
   "metadata": {},
   "source": [
    "if we have comments that extend multiple lines, one way of doing it is to use hash(#) in the begining of each line."
   ]
  },
  {
   "cell_type": "code",
   "execution_count": null,
   "id": "1f3eb639",
   "metadata": {},
   "outputs": [],
   "source": [
    "#This is a long comment\n",
    "#and it extends\n",
    "#Multiple lines"
   ]
  },
  {
   "cell_type": "markdown",
   "id": "67c72369",
   "metadata": {},
   "source": [
    "Another way of doing this is to use triple quotes, either ''' or \"\"\"."
   ]
  },
  {
   "cell_type": "code",
   "execution_count": null,
   "id": "8a7e3d0f",
   "metadata": {},
   "outputs": [],
   "source": [
    "\"\"\"This is also a \n",
    "perfect example of\n",
    "multi-line comments\"\"\""
   ]
  },
  {
   "cell_type": "markdown",
   "id": "42e7e89b",
   "metadata": {},
   "source": [
    " # Python Identation"
   ]
  },
  {
   "cell_type": "markdown",
   "id": "99748624",
   "metadata": {},
   "source": [
    "1. Most of the programming languauges like C, C++, Java use braces {} to define a block of code."
   ]
  },
  {
   "cell_type": "markdown",
   "id": "69c82c54",
   "metadata": {},
   "source": [
    "Python uses identation."
   ]
  },
  {
   "cell_type": "markdown",
   "id": "71b4f417",
   "metadata": {},
   "source": [
    "2. A code block (body of a function, loop etc.) starts with indentation and ends with the first unindented line. The amount of indentation is up to you, but it must be consistent throughout that block."
   ]
  },
  {
   "cell_type": "markdown",
   "id": "7be1ed9c",
   "metadata": {},
   "source": [
    "3. Generally four whitespaces are used for indentation and is preferred over tabs."
   ]
  },
  {
   "cell_type": "code",
   "execution_count": null,
   "id": "020ede10",
   "metadata": {},
   "outputs": [],
   "source": [
    "for i in range(10): # we will look at for loop in detail later.\n",
    "    print(i)\n",
    "    print(i*2)\n",
    "print(100)"
   ]
  },
  {
   "cell_type": "markdown",
   "id": "6c134cd7",
   "metadata": {},
   "source": [
    "Indentation can be ignored in line continuation.But it's good idea to always indent.It makes the code more readable."
   ]
  },
  {
   "cell_type": "code",
   "execution_count": null,
   "id": "e3a3cfbe",
   "metadata": {},
   "outputs": [],
   "source": [
    "if True:\n",
    "    print('Machince Learning')\n",
    "    c = \"AAIC\""
   ]
  },
  {
   "cell_type": "markdown",
   "id": "b52af130",
   "metadata": {},
   "source": [
    "# Python Statement"
   ]
  },
  {
   "cell_type": "markdown",
   "id": "88a176ea",
   "metadata": {},
   "source": [
    "Instructions that a Python interpreter can execute are called statements."
   ]
  },
  {
   "cell_type": "markdown",
   "id": "844ea30e",
   "metadata": {},
   "source": [
    "###### Examples:"
   ]
  },
  {
   "cell_type": "code",
   "execution_count": 3,
   "id": "58ecc582",
   "metadata": {},
   "outputs": [],
   "source": [
    "a = 1 #single statement"
   ]
  },
  {
   "cell_type": "markdown",
   "id": "6064890e",
   "metadata": {},
   "source": [
    "# Multi-Line Statement"
   ]
  },
  {
   "cell_type": "markdown",
   "id": "924660d3",
   "metadata": {},
   "source": [
    "In Python, end of a statement is marked by a newline character. But we can make a statement extend over multiple lines with line continuation character()."
   ]
  },
  {
   "cell_type": "code",
   "execution_count": 4,
   "id": "d1a97f54",
   "metadata": {},
   "outputs": [],
   "source": [
    "a = 1 + 2 + 3 + \\\n",
    "4 + 5 + 6 + \\\n",
    "7 + 8"
   ]
  },
  {
   "cell_type": "code",
   "execution_count": 5,
   "id": "038f387d",
   "metadata": {},
   "outputs": [
    {
     "name": "stdout",
     "output_type": "stream",
     "text": [
      "36\n"
     ]
    }
   ],
   "source": [
    "print(a)"
   ]
  },
  {
   "cell_type": "code",
   "execution_count": 6,
   "id": "03ff8ead",
   "metadata": {},
   "outputs": [
    {
     "name": "stdout",
     "output_type": "stream",
     "text": [
      "36\n"
     ]
    }
   ],
   "source": [
    "#another way is to use paranthesis \n",
    "a = (1 + 2 + 3 +\n",
    "     4 + 5 + 6 +\n",
    "     7 + 8)\n",
    "print(a)"
   ]
  },
  {
   "cell_type": "code",
   "execution_count": 7,
   "id": "9972af28",
   "metadata": {},
   "outputs": [],
   "source": [
    "a = 10; b = 20; c = 30 #put multiple statements in a single line using ;"
   ]
  },
  {
   "cell_type": "markdown",
   "id": "6f39b870",
   "metadata": {},
   "source": [
    "# Variables"
   ]
  },
  {
   "cell_type": "markdown",
   "id": "42112eaa",
   "metadata": {},
   "source": [
    "A variable is a location in memory used to store some data (value)."
   ]
  },
  {
   "cell_type": "markdown",
   "id": "dab0b730",
   "metadata": {},
   "source": [
    "They are given unique names to differentiate between different memory locations. The rules for writing variable name is same as the rules for writing identifiers in Python."
   ]
  },
  {
   "cell_type": "markdown",
   "id": "dbd7ed45",
   "metadata": {},
   "source": [
    "We don't need to declare a variable before using it. In Python, we simply assign a value to avariable and it wil exist. We don't even have to declare the type of the variable. This is handled internally according to the type of value we assign to the variable."
   ]
  },
  {
   "cell_type": "markdown",
   "id": "73a9e449",
   "metadata": {},
   "source": [
    "# Variable Assignments"
   ]
  },
  {
   "cell_type": "code",
   "execution_count": 8,
   "id": "6ccd26bb",
   "metadata": {},
   "outputs": [],
   "source": [
    "# We use the assignment operator (=) to assign value ti a variable\n",
    "\n",
    "a = 10\n",
    "b = 5.5\n",
    "c = \"Ml\""
   ]
  },
  {
   "cell_type": "markdown",
   "id": "d58b37f1",
   "metadata": {},
   "source": [
    "# Multiple Assignments"
   ]
  },
  {
   "cell_type": "code",
   "execution_count": 9,
   "id": "493462bf",
   "metadata": {},
   "outputs": [],
   "source": [
    "a, b, c = 10, 5.5, \"ML\""
   ]
  },
  {
   "cell_type": "code",
   "execution_count": 10,
   "id": "68905d2a",
   "metadata": {},
   "outputs": [],
   "source": [
    "a = b = c = \"AI\" #assign the same value to multiple variable at once."
   ]
  },
  {
   "cell_type": "markdown",
   "id": "c96f1ef1",
   "metadata": {},
   "source": [
    "# Storage Locations"
   ]
  },
  {
   "cell_type": "code",
   "execution_count": 11,
   "id": "ba5cc93a",
   "metadata": {},
   "outputs": [
    {
     "name": "stdout",
     "output_type": "stream",
     "text": [
      "140728323024752\n"
     ]
    }
   ],
   "source": [
    "x = 3\n",
    "print(id(x))      #print address of variable x"
   ]
  },
  {
   "cell_type": "code",
   "execution_count": 13,
   "id": "2b67de4c",
   "metadata": {},
   "outputs": [
    {
     "name": "stdout",
     "output_type": "stream",
     "text": [
      "140728323024752\n"
     ]
    }
   ],
   "source": [
    "y = 3\n",
    "print(id(y))"
   ]
  },
  {
   "cell_type": "markdown",
   "id": "5b93c6a4",
   "metadata": {},
   "source": [
    "Observation:"
   ]
  },
  {
   "cell_type": "markdown",
   "id": "16e650e8",
   "metadata": {},
   "source": [
    "x and y points to same memory location"
   ]
  },
  {
   "cell_type": "code",
   "execution_count": 14,
   "id": "eec7b973",
   "metadata": {},
   "outputs": [
    {
     "name": "stdout",
     "output_type": "stream",
     "text": [
      "140728323024720\n"
     ]
    }
   ],
   "source": [
    "y = 2\n",
    "print(id(y))"
   ]
  },
  {
   "cell_type": "markdown",
   "id": "3f1e41fe",
   "metadata": {},
   "source": [
    "# Data Types"
   ]
  },
  {
   "cell_type": "markdown",
   "id": "b39b252e",
   "metadata": {},
   "source": [
    "Every value in Python has a datatype. Since everything is an object in python programming, data types are actually classes and variables are instance(object) of these classes."
   ]
  },
  {
   "cell_type": "markdown",
   "id": "e7a957b7",
   "metadata": {},
   "source": [
    "## Numbers"
   ]
  },
  {
   "cell_type": "markdown",
   "id": "0147ffa3",
   "metadata": {},
   "source": [
    "Integers, floating point numbers and complex numbers falls under Python numbers category. They are defined as int, float and complex class in Python."
   ]
  },
  {
   "cell_type": "markdown",
   "id": "943f18c4",
   "metadata": {},
   "source": [
    "We can use the type() function to know which class a variable or a value belongd to and the isinstance() function to check if an object belongs to a particular class."
   ]
  },
  {
   "cell_type": "code",
   "execution_count": 15,
   "id": "8d2447e6",
   "metadata": {},
   "outputs": [
    {
     "name": "stdout",
     "output_type": "stream",
     "text": [
      "5 is of type <class 'int'>\n"
     ]
    }
   ],
   "source": [
    "a= 5        #data type is implicitly set to integer\n",
    "print(a, \"is of type\", type(a))"
   ]
  },
  {
   "cell_type": "code",
   "execution_count": 16,
   "id": "614af293",
   "metadata": {},
   "outputs": [
    {
     "name": "stdout",
     "output_type": "stream",
     "text": [
      "2.5 is of type <class 'float'>\n"
     ]
    }
   ],
   "source": [
    "a= 2.5        #data type is changed to float\n",
    "print(a, \"is of type\", type(a))"
   ]
  },
  {
   "cell_type": "code",
   "execution_count": 17,
   "id": "dc06484b",
   "metadata": {},
   "outputs": [
    {
     "name": "stdout",
     "output_type": "stream",
     "text": [
      "(1+2j) is of type <class 'complex'>\n"
     ]
    }
   ],
   "source": [
    "a= 1 + 2j        #data type is changed to complex number\n",
    "print(a, \"is of type\", type(a))"
   ]
  },
  {
   "cell_type": "markdown",
   "id": "09dcbfc9",
   "metadata": {},
   "source": [
    "## Boolean"
   ]
  },
  {
   "cell_type": "markdown",
   "id": "f76f4b5a",
   "metadata": {},
   "source": [
    "Boolean represents the truth values False and True"
   ]
  },
  {
   "cell_type": "code",
   "execution_count": 18,
   "id": "054ad484",
   "metadata": {},
   "outputs": [
    {
     "name": "stdout",
     "output_type": "stream",
     "text": [
      "True is of type <class 'bool'>\n"
     ]
    }
   ],
   "source": [
    "a= True        #a is a boolean type\n",
    "print(a, \"is of type\", type(a))"
   ]
  },
  {
   "cell_type": "markdown",
   "id": "43905b0c",
   "metadata": {},
   "source": [
    "## Python Strings"
   ]
  },
  {
   "cell_type": "markdown",
   "id": "21ff930f",
   "metadata": {},
   "source": [
    "String is sequence of Unicode characters."
   ]
  },
  {
   "cell_type": "markdown",
   "id": "019bf2ae",
   "metadata": {},
   "source": [
    "We can use single quotes or double quotes to represent strings."
   ]
  },
  {
   "cell_type": "markdown",
   "id": "6563559d",
   "metadata": {},
   "source": [
    "Multi-line strings can be denoted using triple quotes, ''' or \"\"\"."
   ]
  },
  {
   "cell_type": "code",
   "execution_count": null,
   "id": "35042289",
   "metadata": {},
   "outputs": [],
   "source": []
  }
 ],
 "metadata": {
  "kernelspec": {
   "display_name": "Python 3",
   "language": "python",
   "name": "python3"
  },
  "language_info": {
   "codemirror_mode": {
    "name": "ipython",
    "version": 3
   },
   "file_extension": ".py",
   "mimetype": "text/x-python",
   "name": "python",
   "nbconvert_exporter": "python",
   "pygments_lexer": "ipython3",
   "version": "3.8.8"
  }
 },
 "nbformat": 4,
 "nbformat_minor": 5
}
